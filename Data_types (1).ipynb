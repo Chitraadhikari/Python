{
  "nbformat": 4,
  "nbformat_minor": 0,
  "metadata": {
    "colab": {
      "provenance": []
    },
    "kernelspec": {
      "name": "python3",
      "display_name": "Python 3"
    },
    "language_info": {
      "name": "python"
    }
  },
  "cells": [
    {
      "cell_type": "markdown",
      "source": [
        "1) Explain about data types?\n",
        "-  Data types are the building blocks of Python programming, defining how data is stored and manipulated.\n",
        "* Python has several built-in data types, such as numbers, strings, lists, tuples, dictionaries, and more.\n",
        "* Numbers can be integers, floats, or complex, representing whole numbers, decimals, or imaginary numbers.\n",
        "* Strings are sequences of characters enclosed in quotes, used for text manipulation and formatting.\n",
        "* Lists and tuples are ordered collections of items, separated by commas and enclosed in brackets or parentheses.\n",
        "* Dictionaries are unordered collections of key-value pairs, enclosed in curly braces and accessed by keys."
      ],
      "metadata": {
        "id": "x6HFkck4xiLf"
      }
    },
    {
      "cell_type": "markdown",
      "source": [
        "2) Explain about integers with examples?\n",
        "-  Python int is the whole number, including negative numbers but not fractions. In Python, there is no limit to how long an integer value can be."
      ],
      "metadata": {
        "id": "KOO_RQO7y_c0"
      }
    },
    {
      "cell_type": "code",
      "source": [
        "num = -8\n",
        "\n",
        "# print the data type\n",
        "print(type(num))\n"
      ],
      "metadata": {
        "colab": {
          "base_uri": "https://localhost:8080/"
        },
        "id": "9JcYPPBAzttZ",
        "outputId": "1e3c771a-cefa-407d-b02e-0564bf19e766"
      },
      "execution_count": null,
      "outputs": [
        {
          "output_type": "stream",
          "name": "stdout",
          "text": [
            "<class 'int'>\n"
          ]
        }
      ]
    },
    {
      "cell_type": "code",
      "source": [
        "a = 5\n",
        "b = 6\n",
        "\n",
        "# Addition\n",
        "c = a + b\n",
        "print(\"Addition:\",c)\n",
        "\n",
        "d = 9\n",
        "e = 6\n",
        "\n",
        "# Subtraction\n",
        "f = d - e\n",
        "print(\"Subtraction:\",f)\n",
        "\n",
        "g = 8\n",
        "h = 2\n",
        "\n",
        "# Division\n",
        "i = g // h\n",
        "print(\"Division:\",i)\n",
        "\n",
        "j = 3\n",
        "k = 5\n",
        "\n",
        "# Multiplication\n",
        "l = j * k\n",
        "print(\"Multiplication:\",l)\n",
        "\n",
        "m = 25\n",
        "n = 5\n",
        "\n",
        "# Modulus\n",
        "o = m % n\n",
        "\n",
        "print(\"Modulus:\",o)\n",
        "\n",
        "p = 6\n",
        "q = 2\n",
        "\n",
        "# Exponent\n",
        "r = p ** q\n",
        "print(\"Exponent:\",r)\n"
      ],
      "metadata": {
        "colab": {
          "base_uri": "https://localhost:8080/"
        },
        "id": "2Afisrql0ANE",
        "outputId": "c6e6a671-3b99-43b3-be3d-9600253c73cf"
      },
      "execution_count": null,
      "outputs": [
        {
          "output_type": "stream",
          "name": "stdout",
          "text": [
            "Addition: 11\n",
            "Subtraction: 3\n",
            "Division: 4\n",
            "Multiplication: 15\n",
            "Modulus: 0\n",
            "Exponent: 36\n"
          ]
        }
      ]
    },
    {
      "cell_type": "code",
      "source": [
        "b = 0b11011000 # binary\n",
        "print(b)\n",
        "\n",
        "o = 0o12 # octal\n",
        "print(o)\n",
        "\n",
        "h = 0x12 # hexadecimal\n",
        "print(h)"
      ],
      "metadata": {
        "colab": {
          "base_uri": "https://localhost:8080/"
        },
        "id": "yra5yKPe3P-k",
        "outputId": "f35834aa-5754-405d-e326-f36a4427fef2"
      },
      "execution_count": null,
      "outputs": [
        {
          "output_type": "stream",
          "name": "stdout",
          "text": [
            "216\n",
            "10\n",
            "18\n"
          ]
        }
      ]
    },
    {
      "cell_type": "markdown",
      "source": [
        "3) Explain about float with examples?\n",
        "-  In Python, the float type represents floating-point numbers, which are numbers that can contain a fractional part.\n",
        "* The float function in Python is used to convert a number or a string into a floating-point number."
      ],
      "metadata": {
        "id": "CBdcE9bU0Hui"
      }
    },
    {
      "cell_type": "code",
      "source": [
        "# convert integer value to float\n",
        "num = float(10)\n",
        "print(num)\n"
      ],
      "metadata": {
        "colab": {
          "base_uri": "https://localhost:8080/"
        },
        "id": "udCP4XwR1D2-",
        "outputId": "4c5ee985-1851-4d82-c4a8-e1f107dbd745"
      },
      "execution_count": null,
      "outputs": [
        {
          "output_type": "stream",
          "name": "stdout",
          "text": [
            "10.0\n"
          ]
        }
      ]
    },
    {
      "cell_type": "code",
      "source": [
        "# python code to convert int\n",
        "# float\n",
        "number = 90\n",
        "result = float(number)\n",
        "\n",
        "print(result)\n"
      ],
      "metadata": {
        "colab": {
          "base_uri": "https://localhost:8080/"
        },
        "id": "HEfWJGH51HqF",
        "outputId": "18a4107d-7a56-483b-8444-1ecdd202ea18"
      },
      "execution_count": null,
      "outputs": [
        {
          "output_type": "stream",
          "name": "stdout",
          "text": [
            "90.0\n"
          ]
        }
      ]
    },
    {
      "cell_type": "code",
      "source": [
        "print(float(21.89))"
      ],
      "metadata": {
        "colab": {
          "base_uri": "https://localhost:8080/"
        },
        "id": "sI52GKuM3wor",
        "outputId": "3abda076-31f9-4115-ed10-2be7e01a6fe1"
      },
      "execution_count": null,
      "outputs": [
        {
          "output_type": "stream",
          "name": "stdout",
          "text": [
            "21.89\n"
          ]
        }
      ]
    },
    {
      "cell_type": "code",
      "source": [
        "print(float(8))"
      ],
      "metadata": {
        "colab": {
          "base_uri": "https://localhost:8080/"
        },
        "id": "PA3ajtw14RY8",
        "outputId": "b71b7e90-6869-49d8-c4b5-6a771276369c"
      },
      "execution_count": null,
      "outputs": [
        {
          "output_type": "stream",
          "name": "stdout",
          "text": [
            "8.0\n"
          ]
        }
      ]
    },
    {
      "cell_type": "markdown",
      "source": [
        "4) Explain about complex with examples?\n",
        "-  Python represents complex numbers using a real part and an imaginary part, with the imaginary part followed by a j."
      ],
      "metadata": {
        "id": "Uu0hrafQ1gCQ"
      }
    },
    {
      "cell_type": "code",
      "source": [
        "import cmath\n",
        "z = 1 + 1j\n",
        "z_polar = cmath.polar(z)\n",
        "print(z_polar)"
      ],
      "metadata": {
        "colab": {
          "base_uri": "https://localhost:8080/"
        },
        "id": "cSV8hTkf4aNS",
        "outputId": "472bced7-87d1-45a8-c33f-c76f26f3a3a4"
      },
      "execution_count": null,
      "outputs": [
        {
          "output_type": "stream",
          "name": "stdout",
          "text": [
            "(1.4142135623730951, 0.7853981633974483)\n"
          ]
        }
      ]
    },
    {
      "cell_type": "code",
      "source": [
        "import math\n",
        "r = round(z_polar[0], 2)\n",
        "theta = round(z_polar[1], 2)\n",
        "theta_deg = round(math.degrees(theta), 2)\n",
        "print(r, theta, theta_deg)"
      ],
      "metadata": {
        "colab": {
          "base_uri": "https://localhost:8080/"
        },
        "id": "XGQxOKMA5Q7A",
        "outputId": "9bc2cb62-6276-4565-9f0c-78df0fc9fcb7"
      },
      "execution_count": null,
      "outputs": [
        {
          "output_type": "stream",
          "name": "stdout",
          "text": [
            "1.41 0.79 45.26\n"
          ]
        }
      ]
    },
    {
      "cell_type": "code",
      "source": [
        "z_simplified = cmath.rect(r, theta)\n",
        "print(z_simplified)"
      ],
      "metadata": {
        "colab": {
          "base_uri": "https://localhost:8080/"
        },
        "id": "Zqsq7Zhh5VkY",
        "outputId": "bd2233a0-bdb5-41b9-e14b-ad952e4c5fcc"
      },
      "execution_count": null,
      "outputs": [
        {
          "output_type": "stream",
          "name": "stdout",
          "text": [
            "(0.9924218950696528+1.001598114108827j)\n"
          ]
        }
      ]
    },
    {
      "cell_type": "markdown",
      "source": [
        "5)  Explain boolean data type with 10 examples.\n",
        "* Python boolean type is one of the built-in data types provided by Python, which represents one of the two values i.e. True or False.\n",
        "* Generally, it is used to represent the truth values of the expressions.\n",
        "* The boolean value can be of two types only i.e. either True or False.\n",
        "* The output <class ‘bool’> indicates the variable is a boolean data type.\n",
        "* For Examples:\n",
        "\n",
        "\n",
        "\n",
        "\n",
        "\n"
      ],
      "metadata": {
        "id": "-Ydv2mGC7TfI"
      }
    },
    {
      "cell_type": "code",
      "source": [
        "Input: 1==1"
      ],
      "metadata": {
        "id": "4EDJZ7IYGakx"
      },
      "execution_count": 2,
      "outputs": []
    },
    {
      "cell_type": "code",
      "source": [
        "Input: 2<1"
      ],
      "metadata": {
        "id": "ilR-Ev9cG6Om"
      },
      "execution_count": 3,
      "outputs": []
    },
    {
      "cell_type": "code",
      "source": [
        "print(10 > 9)"
      ],
      "metadata": {
        "colab": {
          "base_uri": "https://localhost:8080/"
        },
        "id": "OQqVo29hH1Cg",
        "outputId": "f17456b1-c715-4923-ffaf-cc40319d6047"
      },
      "execution_count": 5,
      "outputs": [
        {
          "output_type": "stream",
          "name": "stdout",
          "text": [
            "True\n"
          ]
        }
      ]
    },
    {
      "cell_type": "code",
      "source": [
        "print(10 == 9)"
      ],
      "metadata": {
        "colab": {
          "base_uri": "https://localhost:8080/"
        },
        "id": "blaVj-KuIVuu",
        "outputId": "ef720701-1b0f-4887-971b-62fcc71d27de"
      },
      "execution_count": 6,
      "outputs": [
        {
          "output_type": "stream",
          "name": "stdout",
          "text": [
            "False\n"
          ]
        }
      ]
    },
    {
      "cell_type": "code",
      "source": [
        "print(10 < 9)"
      ],
      "metadata": {
        "colab": {
          "base_uri": "https://localhost:8080/"
        },
        "id": "Karz2uHCIcti",
        "outputId": "12e21b7f-91ab-41b3-af59-6cbc21cc4b41"
      },
      "execution_count": 7,
      "outputs": [
        {
          "output_type": "stream",
          "name": "stdout",
          "text": [
            "False\n"
          ]
        }
      ]
    },
    {
      "cell_type": "code",
      "source": [
        "a = 20\n",
        "b = 30\n",
        "\n",
        "print(a == b)\n",
        "print(100 < b)\n",
        "print(b > a)\n",
        "print(20 >= a)\n",
        "print(90 >= a)\n",
        "print(b != a)"
      ],
      "metadata": {
        "colab": {
          "base_uri": "https://localhost:8080/"
        },
        "id": "SjIurrKxJ6ah",
        "outputId": "890d7a45-65fc-4994-ae34-90eea330a116"
      },
      "execution_count": 8,
      "outputs": [
        {
          "output_type": "stream",
          "name": "stdout",
          "text": [
            "False\n",
            "False\n",
            "True\n",
            "True\n",
            "True\n",
            "True\n"
          ]
        }
      ]
    },
    {
      "cell_type": "markdown",
      "source": [
        "6) Type conversion/ type casting.\n",
        "*  Python defines type conversion functions to directly convert one data type to another which is useful in day-to-day and competitive programming.\n",
        "*  The act of changing an object’s data type is known as type conversion."
      ],
      "metadata": {
        "id": "3yk0CWl4KXYx"
      }
    },
    {
      "cell_type": "markdown",
      "source": [
        "*  Converting Int to float."
      ],
      "metadata": {
        "id": "hwaz3Ke5Lk_S"
      }
    },
    {
      "cell_type": "code",
      "source": [
        "integer_number = 123\n",
        "float_number = 1.23\n",
        "\n",
        "new_number = integer_number + float_number\n",
        "\n",
        "# display new value and resulting data type\n",
        "print(\"Value:\",new_number)\n",
        "print(\"Data Type:\",type(new_number))"
      ],
      "metadata": {
        "colab": {
          "base_uri": "https://localhost:8080/"
        },
        "id": "07BW29OMNbTe",
        "outputId": "f249c600-dc0b-4d2c-dfa0-b56114ba2a9a"
      },
      "execution_count": 9,
      "outputs": [
        {
          "output_type": "stream",
          "name": "stdout",
          "text": [
            "Value: 124.23\n",
            "Data Type: <class 'float'>\n"
          ]
        }
      ]
    },
    {
      "cell_type": "code",
      "source": [
        "a = 1\n",
        "b = float (a)"
      ],
      "metadata": {
        "id": "_zOXTGhpN0Rm"
      },
      "execution_count": 13,
      "outputs": []
    },
    {
      "cell_type": "code",
      "source": [
        "intValue = 10\n",
        "floatValue = float(intValue) # Using float() function\n",
        "print(\"Integer value:\", intValue)\n",
        "print(\"Float value:\", floatValue)"
      ],
      "metadata": {
        "colab": {
          "base_uri": "https://localhost:8080/"
        },
        "id": "4y1Nb75_O6Kb",
        "outputId": "fda347be-ecaa-43e0-f7b4-0c1d1f9d7377"
      },
      "execution_count": 14,
      "outputs": [
        {
          "output_type": "stream",
          "name": "stdout",
          "text": [
            "Integer value: 10\n",
            "Float value: 10.0\n"
          ]
        }
      ]
    },
    {
      "cell_type": "code",
      "source": [
        "a = 37.5\n",
        "b = int (a)\n",
        "print (b)"
      ],
      "metadata": {
        "colab": {
          "base_uri": "https://localhost:8080/"
        },
        "id": "0iGw3FhMRHV9",
        "outputId": "f20bf544-bb98-4eee-ae0e-6bffb3fa2bc9"
      },
      "execution_count": 15,
      "outputs": [
        {
          "output_type": "stream",
          "name": "stdout",
          "text": [
            "37\n"
          ]
        }
      ]
    },
    {
      "cell_type": "markdown",
      "source": [
        "*  Converting int to complex."
      ],
      "metadata": {
        "id": "l1t40skcRmLF"
      }
    },
    {
      "cell_type": "code",
      "source": [
        "# Take an intger\n",
        "a = 5\n",
        "print('Input', a, type(a), sep='\\n')\n",
        "\n",
        "# Convert int to complex\n",
        "output = complex(a)\n",
        "print('\\nOutput', output, type(output), sep='\\n')"
      ],
      "metadata": {
        "colab": {
          "base_uri": "https://localhost:8080/"
        },
        "id": "K0gvf-2fRw9c",
        "outputId": "b1daf06f-d4e9-402a-ae7f-8e5cd14ffdeb"
      },
      "execution_count": 16,
      "outputs": [
        {
          "output_type": "stream",
          "name": "stdout",
          "text": [
            "Input\n",
            "5\n",
            "<class 'int'>\n",
            "\n",
            "Output\n",
            "(5+0j)\n",
            "<class 'complex'>\n"
          ]
        }
      ]
    },
    {
      "cell_type": "code",
      "source": [
        "a = 37\n",
        "b = complex (a)\n",
        "print (b)"
      ],
      "metadata": {
        "colab": {
          "base_uri": "https://localhost:8080/"
        },
        "id": "kC4_E_17SUkv",
        "outputId": "45237c46-0e87-49f7-fa8f-dfa403568f41"
      },
      "execution_count": 17,
      "outputs": [
        {
          "output_type": "stream",
          "name": "stdout",
          "text": [
            "(37+0j)\n"
          ]
        }
      ]
    },
    {
      "cell_type": "code",
      "source": [
        "x = 248\n",
        "y = complex (x)\n",
        "print(y)"
      ],
      "metadata": {
        "colab": {
          "base_uri": "https://localhost:8080/"
        },
        "id": "hIxas8n2TIbC",
        "outputId": "72966763-db69-4503-bfd5-9fec11f972ca"
      },
      "execution_count": 18,
      "outputs": [
        {
          "output_type": "stream",
          "name": "stdout",
          "text": [
            "(248+0j)\n"
          ]
        }
      ]
    },
    {
      "cell_type": "code",
      "source": [
        "xy = 700\n",
        "yz = complex (xy)\n",
        "print(yz)"
      ],
      "metadata": {
        "colab": {
          "base_uri": "https://localhost:8080/"
        },
        "id": "UGs4odx_TXxE",
        "outputId": "8ce12f3e-ba33-42d4-8cb2-92829c66b72b"
      },
      "execution_count": 19,
      "outputs": [
        {
          "output_type": "stream",
          "name": "stdout",
          "text": [
            "(700+0j)\n"
          ]
        }
      ]
    },
    {
      "cell_type": "markdown",
      "source": [
        "*  Converting float to int.\n"
      ],
      "metadata": {
        "id": "kzmahRdvT-kI"
      }
    },
    {
      "cell_type": "code",
      "source": [
        "# conversion from float to int\n",
        "\n",
        "num = 9.3\n",
        "\n",
        "# printing data type of 'num'\n",
        "print('type:',\n",
        "      type(num).__name__)\n",
        "\n",
        "# conversion to int\n",
        "num = int(num)\n",
        "\n",
        "# printing data type of 'num'\n",
        "print('converted value:', num,\n",
        "      ', type:', type(num).__name__)\n"
      ],
      "metadata": {
        "colab": {
          "base_uri": "https://localhost:8080/"
        },
        "id": "jINHScRqUEZw",
        "outputId": "2184c963-21d2-4a41-805b-b7bcb0fd94ad"
      },
      "execution_count": 20,
      "outputs": [
        {
          "output_type": "stream",
          "name": "stdout",
          "text": [
            "type: float\n",
            "converted value: 9 , type: int\n"
          ]
        }
      ]
    },
    {
      "cell_type": "code",
      "source": [
        "float_number = 3.6\n",
        "int_number = int(float_number)\n",
        "print(int_number)"
      ],
      "metadata": {
        "colab": {
          "base_uri": "https://localhost:8080/"
        },
        "id": "fL6jWueAVaDh",
        "outputId": "15435404-f9f0-4132-fceb-352c1eb89f3b"
      },
      "execution_count": 25,
      "outputs": [
        {
          "output_type": "stream",
          "name": "stdout",
          "text": [
            "3\n"
          ]
        }
      ]
    },
    {
      "cell_type": "code",
      "source": [
        "float_number = 77.5\n",
        "int_number = int(float_number)\n",
        "print(int_number)"
      ],
      "metadata": {
        "colab": {
          "base_uri": "https://localhost:8080/"
        },
        "id": "4GIS1hltVryN",
        "outputId": "afb580bc-95c8-46a1-adab-a09ee0a628f7"
      },
      "execution_count": 27,
      "outputs": [
        {
          "output_type": "stream",
          "name": "stdout",
          "text": [
            "77\n"
          ]
        }
      ]
    },
    {
      "cell_type": "code",
      "source": [
        "float_num = 3.14159\n",
        "int_num = int(float_num)\n",
        "print(int_num)"
      ],
      "metadata": {
        "colab": {
          "base_uri": "https://localhost:8080/"
        },
        "id": "mhVKWD-JWQCF",
        "outputId": "e3f0c309-40db-492d-9a8f-261c11444de9"
      },
      "execution_count": 28,
      "outputs": [
        {
          "output_type": "stream",
          "name": "stdout",
          "text": [
            "3\n"
          ]
        }
      ]
    },
    {
      "cell_type": "markdown",
      "source": [
        "Converting float to complex."
      ],
      "metadata": {
        "id": "P8FLPOdNWd3Q"
      }
    },
    {
      "cell_type": "code",
      "source": [
        "real_part = 7.3\n",
        "complex_number = complex(real_part)\n",
        "print(complex_number)"
      ],
      "metadata": {
        "colab": {
          "base_uri": "https://localhost:8080/"
        },
        "id": "Va1l3rTcWkgi",
        "outputId": "f9e73124-63ac-4b74-be79-404ac5ca7688"
      },
      "execution_count": 29,
      "outputs": [
        {
          "output_type": "stream",
          "name": "stdout",
          "text": [
            "(7.3+0j)\n"
          ]
        }
      ]
    },
    {
      "cell_type": "code",
      "source": [
        "complex_number = 3 + 4j\n",
        "\n",
        "real_part_float = float(complex_number.real)\n",
        "\n",
        "print(&quot;Complex Number:&quot;, complex_number)\n",
        "print(&quot;Real Part as Float:&quot;, real_part_float)\n"
      ],
      "metadata": {
        "colab": {
          "base_uri": "https://localhost:8080/",
          "height": 106
        },
        "id": "eSSIJTxUW3p1",
        "outputId": "3452b18a-0ba4-4894-af45-f341c7ba550b"
      },
      "execution_count": 30,
      "outputs": [
        {
          "output_type": "error",
          "ename": "SyntaxError",
          "evalue": "invalid syntax (<ipython-input-30-99b8013a4a23>, line 5)",
          "traceback": [
            "\u001b[0;36m  File \u001b[0;32m\"<ipython-input-30-99b8013a4a23>\"\u001b[0;36m, line \u001b[0;32m5\u001b[0m\n\u001b[0;31m    print(&quot;Complex Number:&quot;, complex_number)\u001b[0m\n\u001b[0m          ^\u001b[0m\n\u001b[0;31mSyntaxError\u001b[0m\u001b[0;31m:\u001b[0m invalid syntax\n"
          ]
        }
      ]
    },
    {
      "cell_type": "code",
      "source": [
        "a = 76.9\n",
        "complex_number = complex(a)\n",
        "print(complex_number)"
      ],
      "metadata": {
        "colab": {
          "base_uri": "https://localhost:8080/"
        },
        "id": "N2RNuZhYXIEl",
        "outputId": "859342d2-4dab-4e24-8507-b0db7bd1ff7c"
      },
      "execution_count": 31,
      "outputs": [
        {
          "output_type": "stream",
          "name": "stdout",
          "text": [
            "(76.9+0j)\n"
          ]
        }
      ]
    },
    {
      "cell_type": "code",
      "source": [],
      "metadata": {
        "id": "kmlENSOQX1W7"
      },
      "execution_count": null,
      "outputs": []
    }
  ]
}