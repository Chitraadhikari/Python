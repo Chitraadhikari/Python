{
  "nbformat": 4,
  "nbformat_minor": 0,
  "metadata": {
    "colab": {
      "provenance": []
    },
    "kernelspec": {
      "name": "python3",
      "display_name": "Python 3"
    },
    "language_info": {
      "name": "python"
    }
  },
  "cells": [
    {
      "cell_type": "markdown",
      "source": [
        "1) Loop Statement.\n",
        "*  Python programming language provides two types of Python loopshecking time.For loop and While loop to handle looping requirements. Loops in Python provides three ways for executing the loops.\n",
        "*  While loop- In Python, a while loop is used to execute a block of statements repeatedly until a given condition is satisfied. When the condition becomes false, the line immediately after the loop in the program is executed.\n",
        "*  Python While Loop Syntax:\n",
        "  \n",
        "   while expression:\n",
        "    \n",
        "    statement(s)"
      ],
      "metadata": {
        "id": "6owpo9Uu0QlJ"
      }
    },
    {
      "cell_type": "code",
      "source": [
        "count = 0\n",
        "while (count < 3):\n",
        "    count = count + 1\n",
        "    print (\"Hello World\")"
      ],
      "metadata": {
        "colab": {
          "base_uri": "https://localhost:8080/"
        },
        "id": "Di6gdZ9b1jE3",
        "outputId": "7dbc8c69-174a-488b-cbda-aee73c2bae9d"
      },
      "execution_count": null,
      "outputs": [
        {
          "output_type": "stream",
          "name": "stdout",
          "text": [
            "Hello World\n",
            "Hello World\n",
            "Hello World\n"
          ]
        }
      ]
    },
    {
      "cell_type": "code",
      "source": [
        "i = 20\n",
        "\n",
        "while i <= 50:\n",
        "  print (i)\n",
        "  i = i + 20"
      ],
      "metadata": {
        "colab": {
          "base_uri": "https://localhost:8080/"
        },
        "id": "sWwXWJAY3Qgc",
        "outputId": "d421565f-9e67-4072-c730-2f859fe2929f"
      },
      "execution_count": null,
      "outputs": [
        {
          "output_type": "stream",
          "name": "stdout",
          "text": [
            "20\n",
            "40\n"
          ]
        }
      ]
    },
    {
      "cell_type": "markdown",
      "source": [
        "*  For loop- The for loop iterates over the elements of sequence in order. In each iteration, the body of the loop is executed.\n",
        "*  The syntax of a for loop:\n",
        "\n",
        "   for val in sequence:\n",
        "   \n",
        "   #statement(s)"
      ],
      "metadata": {
        "id": "l_J2bH1i4E4L"
      }
    },
    {
      "cell_type": "code",
      "source": [
        "n = 4\n",
        "\n",
        "for i in range(0,n):\n",
        "  print(i)"
      ],
      "metadata": {
        "colab": {
          "base_uri": "https://localhost:8080/"
        },
        "id": "PxfK0Xfy5Id5",
        "outputId": "e0308b41-93ca-4555-fd41-27f26d5ba93d"
      },
      "execution_count": null,
      "outputs": [
        {
          "output_type": "stream",
          "name": "stdout",
          "text": [
            "0\n",
            "1\n",
            "2\n",
            "3\n"
          ]
        }
      ]
    },
    {
      "cell_type": "code",
      "source": [
        "#list data\n",
        "h = [\"P\", \"Y\", \"T\", \"H\", \"O\", \"N\"]\n",
        "\n",
        "for x in h:\n",
        "  print(x)"
      ],
      "metadata": {
        "colab": {
          "base_uri": "https://localhost:8080/"
        },
        "id": "5NwCMQp66wR8",
        "outputId": "02ab17d1-a694-4408-f01b-329ef7c1ed2b"
      },
      "execution_count": null,
      "outputs": [
        {
          "output_type": "stream",
          "name": "stdout",
          "text": [
            "P\n",
            "Y\n",
            "T\n",
            "H\n",
            "O\n",
            "N\n"
          ]
        }
      ]
    },
    {
      "cell_type": "code",
      "source": [
        "#tuple data\n",
        "tup = (\"helloworld\", \"datascience\")\n",
        "\n",
        "for i in tup:\n",
        "  print(i)"
      ],
      "metadata": {
        "colab": {
          "base_uri": "https://localhost:8080/"
        },
        "id": "JDWytXeC7V8L",
        "outputId": "3f8118dc-2a5a-40a4-ce89-9091b447a701"
      },
      "execution_count": null,
      "outputs": [
        {
          "output_type": "stream",
          "name": "stdout",
          "text": [
            "helloworld\n",
            "datascience\n"
          ]
        }
      ]
    },
    {
      "cell_type": "code",
      "source": [
        "#dict data\n",
        "dict = {\"name\": \"John\", \"age\": \"24\", \"city\": \"Los Angeles\"}\n",
        "\n",
        "for key,values in dict.items():\n",
        "  print (key,values)"
      ],
      "metadata": {
        "colab": {
          "base_uri": "https://localhost:8080/"
        },
        "id": "9eEM7DHF8YSr",
        "outputId": "4e8e17b6-c778-450b-e39f-e4a68668e523"
      },
      "execution_count": null,
      "outputs": [
        {
          "output_type": "stream",
          "name": "stdout",
          "text": [
            "name John\n",
            "age 24\n",
            "city Los Angeles\n"
          ]
        }
      ]
    },
    {
      "cell_type": "markdown",
      "source": [
        "2) Write python program to check given year is a leap year or not."
      ],
      "metadata": {
        "id": "jD6mqJjL9bqq"
      }
    },
    {
      "cell_type": "code",
      "source": [
        "years = [2020, 2021, 2022, 2023, 2024]\n",
        "\n",
        "for x in years:\n",
        "  if x % 4 == 0 :\n",
        "      print (f\"{x} is a leap year\")\n",
        "  else:\n",
        "      print (f\"{x} is not a leap year\")"
      ],
      "metadata": {
        "colab": {
          "base_uri": "https://localhost:8080/"
        },
        "id": "f1hUYUUX9xky",
        "outputId": "0c911d49-bc91-45c1-e854-49e75aa3197c"
      },
      "execution_count": null,
      "outputs": [
        {
          "output_type": "stream",
          "name": "stdout",
          "text": [
            "2020 is a leap year\n",
            "2021 is not a leap year\n",
            "2022 is not a leap year\n",
            "2023 is not a leap year\n",
            "2024 is a leap year\n"
          ]
        }
      ]
    },
    {
      "cell_type": "markdown",
      "source": [
        "3) Write a python program to find  a given number is even or odd."
      ],
      "metadata": {
        "id": "XkVgxXkC0NnO"
      }
    },
    {
      "cell_type": "code",
      "source": [
        "numbers = 1, 3, 4, 5, 8, 10\n",
        "\n",
        "for i in numbers:\n",
        "  if i % 2 == 0:\n",
        "    print (f\"{i} is even\")\n",
        "  else:\n",
        "    print (f\"{i} is odd\")"
      ],
      "metadata": {
        "colab": {
          "base_uri": "https://localhost:8080/"
        },
        "id": "y7hO8jwF1Bt4",
        "outputId": "58dcd1ef-914c-43d0-e60e-03a7801df107"
      },
      "execution_count": null,
      "outputs": [
        {
          "output_type": "stream",
          "name": "stdout",
          "text": [
            "1 is odd\n",
            "3 is odd\n",
            "4 is even\n",
            "5 is odd\n",
            "8 is even\n",
            "10 is even\n"
          ]
        }
      ]
    },
    {
      "cell_type": "markdown",
      "source": [
        "4) Write a python program to check if a list is empty or not."
      ],
      "metadata": {
        "id": "Ag7fgX1P2VX-"
      }
    },
    {
      "cell_type": "code",
      "source": [
        "my_list = []\n",
        "\n",
        "for i in my_list:\n",
        "  if not my_list:\n",
        "    print (\"The list is not empty\")\n",
        "  else:\n",
        "    print (\"The list is empty\")"
      ],
      "metadata": {
        "id": "CzpBX-KW2iL8"
      },
      "execution_count": null,
      "outputs": []
    },
    {
      "cell_type": "markdown",
      "source": [
        "5) Write a python code to calculate grades of students."
      ],
      "metadata": {
        "id": "okY4keDx4QFe"
      }
    },
    {
      "cell_type": "code",
      "source": [
        "marks = [45, 90, 87, 58]\n",
        "\n",
        "for i in marks:\n",
        "  if i >= 90:\n",
        "    print (\"A\")\n",
        "  elif i >= 80:\n",
        "    print (\"B\")\n",
        "  elif i >= 70:\n",
        "    print (\"C\")\n",
        "  elif i >= 60:\n",
        "    print (\"D\")\n",
        "  elif i >= 50:\n",
        "    print (\"E\")\n",
        "  else:\n",
        "    print (\"F\")"
      ],
      "metadata": {
        "colab": {
          "base_uri": "https://localhost:8080/"
        },
        "id": "Db2veX3X4d_W",
        "outputId": "c0ede10f-49af-43ee-a597-a041f1103695"
      },
      "execution_count": null,
      "outputs": [
        {
          "output_type": "stream",
          "name": "stdout",
          "text": [
            "F\n",
            "A\n",
            "B\n",
            "E\n"
          ]
        }
      ]
    },
    {
      "cell_type": "markdown",
      "source": [
        "6) Check whether given word is a palindrome or not."
      ],
      "metadata": {
        "id": "v-_NUpOT7Cjt"
      }
    },
    {
      "cell_type": "code",
      "source": [
        "word = input (\"Enter your word\")\n",
        "\n",
        "for i in word:\n",
        "  if word == word [::-2]:\n",
        "    print (\"The word is a palindrome.\")\n",
        "  else:\n",
        "    print (\"The word is not a palindrome.\")"
      ],
      "metadata": {
        "colab": {
          "base_uri": "https://localhost:8080/"
        },
        "id": "c1Mqt-iS7LHK",
        "outputId": "641acbe9-a124-4670-c9a8-25f7fa93a13b"
      },
      "execution_count": null,
      "outputs": [
        {
          "output_type": "stream",
          "name": "stdout",
          "text": [
            "Enter your word A\n",
            "The word is not a palindrome.\n",
            "The word is not a palindrome.\n"
          ]
        }
      ]
    },
    {
      "cell_type": "markdown",
      "source": [
        "7) Write a python program to find the smallest among the three numbers."
      ],
      "metadata": {
        "id": "vOqsju5K8eDH"
      }
    },
    {
      "cell_type": "code",
      "source": [
        "def main():\n",
        "\n",
        "  smallest = None\n",
        "  while True :\n",
        "    num= int(input(\"Please enter a number \"))\n",
        "\n",
        "    if num == 0:\n",
        "      print(\"Program aborted\")\n",
        "      break\n",
        "    elif smallest is None:\n",
        "      smallest = num\n",
        "    elif num < smallest:\n",
        "        smallest = num\n",
        "\n",
        "  print(\"Your smallest number was\", smallest)\n",
        "\n",
        "main()"
      ],
      "metadata": {
        "colab": {
          "base_uri": "https://localhost:8080/",
          "height": 315
        },
        "id": "klEO009Y_Kn9",
        "outputId": "5d4aab52-5d79-4b98-ccea-725a10398026"
      },
      "execution_count": null,
      "outputs": [
        {
          "name": "stdout",
          "output_type": "stream",
          "text": [
            "Please enter a number 6,78,-1\n"
          ]
        },
        {
          "output_type": "error",
          "ename": "ValueError",
          "evalue": "invalid literal for int() with base 10: '6,78,-1'",
          "traceback": [
            "\u001b[0;31m---------------------------------------------------------------------------\u001b[0m",
            "\u001b[0;31mValueError\u001b[0m                                Traceback (most recent call last)",
            "\u001b[0;32m<ipython-input-26-62e1aec35455>\u001b[0m in \u001b[0;36m<cell line: 17>\u001b[0;34m()\u001b[0m\n\u001b[1;32m     15\u001b[0m   \u001b[0mprint\u001b[0m\u001b[0;34m(\u001b[0m\u001b[0;34m\"Your smallest number was\"\u001b[0m\u001b[0;34m,\u001b[0m \u001b[0msmallest\u001b[0m\u001b[0;34m)\u001b[0m\u001b[0;34m\u001b[0m\u001b[0;34m\u001b[0m\u001b[0m\n\u001b[1;32m     16\u001b[0m \u001b[0;34m\u001b[0m\u001b[0m\n\u001b[0;32m---> 17\u001b[0;31m \u001b[0mmain\u001b[0m\u001b[0;34m(\u001b[0m\u001b[0;34m)\u001b[0m\u001b[0;34m\u001b[0m\u001b[0;34m\u001b[0m\u001b[0m\n\u001b[0m",
            "\u001b[0;32m<ipython-input-26-62e1aec35455>\u001b[0m in \u001b[0;36mmain\u001b[0;34m()\u001b[0m\n\u001b[1;32m      3\u001b[0m   \u001b[0msmallest\u001b[0m \u001b[0;34m=\u001b[0m \u001b[0;32mNone\u001b[0m\u001b[0;34m\u001b[0m\u001b[0;34m\u001b[0m\u001b[0m\n\u001b[1;32m      4\u001b[0m   \u001b[0;32mwhile\u001b[0m \u001b[0;32mTrue\u001b[0m \u001b[0;34m:\u001b[0m\u001b[0;34m\u001b[0m\u001b[0;34m\u001b[0m\u001b[0m\n\u001b[0;32m----> 5\u001b[0;31m     \u001b[0mnum\u001b[0m\u001b[0;34m=\u001b[0m \u001b[0mint\u001b[0m\u001b[0;34m(\u001b[0m\u001b[0minput\u001b[0m\u001b[0;34m(\u001b[0m\u001b[0;34m\"Please enter a number \"\u001b[0m\u001b[0;34m)\u001b[0m\u001b[0;34m)\u001b[0m\u001b[0;34m\u001b[0m\u001b[0;34m\u001b[0m\u001b[0m\n\u001b[0m\u001b[1;32m      6\u001b[0m \u001b[0;34m\u001b[0m\u001b[0m\n\u001b[1;32m      7\u001b[0m     \u001b[0;32mif\u001b[0m \u001b[0mnum\u001b[0m \u001b[0;34m==\u001b[0m \u001b[0;36m0\u001b[0m\u001b[0;34m:\u001b[0m\u001b[0;34m\u001b[0m\u001b[0;34m\u001b[0m\u001b[0m\n",
            "\u001b[0;31mValueError\u001b[0m: invalid literal for int() with base 10: '6,78,-1'"
          ]
        }
      ]
    },
    {
      "cell_type": "markdown",
      "source": [
        "8) Find the second largest number in the list."
      ],
      "metadata": {
        "id": "M8dpFuZ7A64P"
      }
    },
    {
      "cell_type": "code",
      "source": [
        "my_list = [10, 20, 30, 40, 50]\n",
        "largest = second_largest = 0\n",
        "\n",
        "for num in my_list:\n",
        "    if num > largest:\n",
        "        second_largest = largest\n",
        "        largest = num\n",
        "    else:\n",
        "        second_largest = num\n",
        "\n",
        "print(second_largest)"
      ],
      "metadata": {
        "colab": {
          "base_uri": "https://localhost:8080/"
        },
        "id": "elDFAqehBIqQ",
        "outputId": "0ace2b14-c741-416c-e389-0efb02863155"
      },
      "execution_count": null,
      "outputs": [
        {
          "output_type": "stream",
          "name": "stdout",
          "text": [
            "40\n"
          ]
        }
      ]
    },
    {
      "cell_type": "markdown",
      "source": [
        "9) Calculate BMI and categorize it."
      ],
      "metadata": {
        "id": "I5ukEbQlpjYg"
      }
    },
    {
      "cell_type": "code",
      "source": [
        "n = 0\n",
        "h=int(input(\"Enter your height in cm: \"))\n",
        "w=int(input(\"Enter your Weight in Kg: \"))\n",
        "\n",
        "for n in range(1):\n",
        "  BMI=w/(h*h)\n",
        "  if(BMI<=18):\n",
        "        print(\"You are underweight\")\n",
        "  elif(BMI<=25):\n",
        "        print(\"You are Healthy\")\n",
        "  elif(BMI<=30):\n",
        "        print(\"You are overweight\")\n",
        "  else:\n",
        "        print(\"Obesity\")\n"
      ],
      "metadata": {
        "id": "I3eADM1mpw5A",
        "colab": {
          "base_uri": "https://localhost:8080/"
        },
        "outputId": "8ab2fd61-8437-4de3-8cad-ee5e5a0dd483"
      },
      "execution_count": null,
      "outputs": [
        {
          "output_type": "stream",
          "name": "stdout",
          "text": [
            "Enter your height in cm: 152\n",
            "Enter your Weight in Kg: 44\n",
            "You are underweight\n"
          ]
        }
      ]
    },
    {
      "cell_type": "markdown",
      "source": [
        "10) Write  a python program to check vote eligibilty."
      ],
      "metadata": {
        "id": "h4dKHQC4tbdL"
      }
    },
    {
      "cell_type": "code",
      "source": [
        "age = [10, 34, 22, 5, 90]\n",
        "\n",
        "for x in age:\n",
        "  if x >= 18:\n",
        "     print(f\"Age {x} is  eligible to vote.\")\n",
        "  else:\n",
        "     print(f\"Age {x} is not eligible to vote.\")\n",
        "\n"
      ],
      "metadata": {
        "colab": {
          "base_uri": "https://localhost:8080/"
        },
        "id": "IUUZuEHJtoFi",
        "outputId": "9e6cb71c-7d49-4781-de81-d9e59ec29ebb"
      },
      "execution_count": null,
      "outputs": [
        {
          "output_type": "stream",
          "name": "stdout",
          "text": [
            "Age 10 is not eligible to vote.\n",
            "Age 34 is  eligible to vote.\n",
            "Age 22 is  eligible to vote.\n",
            "Age 5 is not eligible to vote.\n",
            "Age 90 is  eligible to vote.\n"
          ]
        }
      ]
    },
    {
      "cell_type": "markdown",
      "source": [
        "11) Write python program to check person's age belong to which group."
      ],
      "metadata": {
        "id": "gdj9kNZrvuyg"
      }
    },
    {
      "cell_type": "code",
      "source": [
        "i = 0\n",
        "age_group = int(input(\"Enter your age: \"))\n",
        "\n",
        "for i in range(1):\n",
        "    if age_group <= 22:\n",
        "       print (\"Belongs to school group\")\n",
        "    elif age_group >= 22 and age_group <= 50:\n",
        "       print (\"Belongs to work group\")\n",
        "    elif age_group >= 50:\n",
        "       print (\"Belongs to retire group\")\n",
        "    else:\n",
        "       print (senior)"
      ],
      "metadata": {
        "id": "C4w_vI1lv-9P",
        "colab": {
          "base_uri": "https://localhost:8080/"
        },
        "outputId": "090b5e3a-e6b2-4300-8cbd-d6da552ba7f4"
      },
      "execution_count": null,
      "outputs": [
        {
          "output_type": "stream",
          "name": "stdout",
          "text": [
            "Enter your age: 10\n",
            "Belongs to school group\n"
          ]
        }
      ]
    }
  ]
}