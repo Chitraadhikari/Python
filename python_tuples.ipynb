{
  "nbformat": 4,
  "nbformat_minor": 0,
  "metadata": {
    "colab": {
      "provenance": []
    },
    "kernelspec": {
      "name": "python3",
      "display_name": "Python 3"
    },
    "language_info": {
      "name": "python"
    }
  },
  "cells": [
    {
      "cell_type": "markdown",
      "source": [
        "1) Define tuples.\n",
        "-  Tuples are used to store multiple items in a single variable.\n",
        "*  Tuple is one of 4 built-in data types in Python used to store collections of data.\n",
        "*  A tuple is a collection which is ordered and unchangeable.\n",
        "*  Tuples are written with round brackets."
      ],
      "metadata": {
        "id": "w5xNNYxDAVTd"
      }
    },
    {
      "cell_type": "markdown",
      "source": [
        "2) Give 10 examples of tuples.\n"
      ],
      "metadata": {
        "id": "tjsGH8nHAy8G"
      }
    },
    {
      "cell_type": "code",
      "source": [
        "thistuple = (\"apple\", \"banana\", \"cherry\")\n",
        "print(thistuple)"
      ],
      "metadata": {
        "colab": {
          "base_uri": "https://localhost:8080/"
        },
        "id": "TvNAuZT_BE27",
        "outputId": "ddc5edfc-4dd2-4137-fecf-9ca2a60f11ba"
      },
      "execution_count": null,
      "outputs": [
        {
          "output_type": "stream",
          "name": "stdout",
          "text": [
            "('apple', 'banana', 'cherry')\n"
          ]
        }
      ]
    },
    {
      "cell_type": "code",
      "source": [
        "name = (\"Chitra\", \"Rupali\", \"Riya\")\n",
        "print (type(name))"
      ],
      "metadata": {
        "colab": {
          "base_uri": "https://localhost:8080/"
        },
        "id": "ercfexMZBNAV",
        "outputId": "6c60b3a0-ab9f-4140-ab36-46bc8b0272d3"
      },
      "execution_count": null,
      "outputs": [
        {
          "output_type": "stream",
          "name": "stdout",
          "text": [
            "<class 'tuple'>\n"
          ]
        }
      ]
    },
    {
      "cell_type": "code",
      "source": [
        "numbers = (1, 2, -5)\n",
        "print(numbers)"
      ],
      "metadata": {
        "colab": {
          "base_uri": "https://localhost:8080/"
        },
        "id": "QocwgFU4BlgE",
        "outputId": "a53867b3-fa45-4d6b-b021-e0bcb17ba4e8"
      },
      "execution_count": null,
      "outputs": [
        {
          "output_type": "stream",
          "name": "stdout",
          "text": [
            "(1, 2, -5)\n"
          ]
        }
      ]
    },
    {
      "cell_type": "code",
      "source": [
        "languages = (\"Java\", \"Python\", \"Javascript\")\n",
        "print (languages)"
      ],
      "metadata": {
        "colab": {
          "base_uri": "https://localhost:8080/"
        },
        "id": "tPRGE_y4BvwW",
        "outputId": "4b5d6afa-a704-42d6-85a0-0c6b9bd5e96e"
      },
      "execution_count": null,
      "outputs": [
        {
          "output_type": "stream",
          "name": "stdout",
          "text": [
            "('Java', 'Python', 'Javascript')\n"
          ]
        }
      ]
    },
    {
      "cell_type": "code",
      "source": [
        "numbers = (25, 34, 57)\n",
        "print (numbers)"
      ],
      "metadata": {
        "colab": {
          "base_uri": "https://localhost:8080/"
        },
        "id": "WbpLmw_xCDzM",
        "outputId": "34970e35-11ca-4c54-a297-3b4fc898866a"
      },
      "execution_count": null,
      "outputs": [
        {
          "output_type": "stream",
          "name": "stdout",
          "text": [
            "(25, 34, 57)\n"
          ]
        }
      ]
    },
    {
      "cell_type": "code",
      "source": [
        "cars = (\"Audi\", \"Mercedes\", \"Range rover\")\n",
        "print (cars)\n",
        "print (type(cars))"
      ],
      "metadata": {
        "colab": {
          "base_uri": "https://localhost:8080/"
        },
        "id": "dk9q6mnrCd1v",
        "outputId": "1470716f-18b2-4872-bbfc-d3f2bcb6713a"
      },
      "execution_count": null,
      "outputs": [
        {
          "output_type": "stream",
          "name": "stdout",
          "text": [
            "('Audi', 'Mercedes', 'Range rover')\n",
            "<class 'tuple'>\n"
          ]
        }
      ]
    },
    {
      "cell_type": "code",
      "source": [
        "my_mixed_tuple = ('Hello', 123, True)\n",
        "print (my_mixed_tuple)"
      ],
      "metadata": {
        "colab": {
          "base_uri": "https://localhost:8080/"
        },
        "id": "LaKS0SMOC3KN",
        "outputId": "44f4a46a-c8a6-4ee0-93c9-369300711325"
      },
      "execution_count": null,
      "outputs": [
        {
          "output_type": "stream",
          "name": "stdout",
          "text": [
            "('Hello', 123, True)\n"
          ]
        }
      ]
    },
    {
      "cell_type": "code",
      "source": [
        "my_numbers = (1, 2, 3)\n",
        "print (my_numbers)"
      ],
      "metadata": {
        "colab": {
          "base_uri": "https://localhost:8080/"
        },
        "id": "Jw6g4qbvDSiD",
        "outputId": "eb51403c-ecfd-44c7-a2a6-60f7fce83aaf"
      },
      "execution_count": null,
      "outputs": [
        {
          "output_type": "stream",
          "name": "stdout",
          "text": [
            "(1, 2, 3)\n"
          ]
        }
      ]
    },
    {
      "cell_type": "code",
      "source": [
        "fruits = (\"Mango\", \"Banana\", \"Cherry\", \"Apple\")\n",
        "print (fruits)"
      ],
      "metadata": {
        "colab": {
          "base_uri": "https://localhost:8080/"
        },
        "id": "fRlFII-ZDe7z",
        "outputId": "709a1b68-cf9f-4c29-aea2-46454f26a3e8"
      },
      "execution_count": null,
      "outputs": [
        {
          "output_type": "stream",
          "name": "stdout",
          "text": [
            "('Mango', 'Banana', 'Cherry', 'Apple')\n"
          ]
        }
      ]
    },
    {
      "cell_type": "code",
      "source": [
        "number_tuple = (10, 20, 25.75)\n",
        "print(number_tuple)"
      ],
      "metadata": {
        "colab": {
          "base_uri": "https://localhost:8080/"
        },
        "id": "rPFbQ-IZDvV1",
        "outputId": "38e8cbca-43bf-4cf3-dfad-00c498dee24c"
      },
      "execution_count": null,
      "outputs": [
        {
          "output_type": "stream",
          "name": "stdout",
          "text": [
            "(10, 20, 25.75)\n"
          ]
        }
      ]
    },
    {
      "cell_type": "markdown",
      "source": [
        "3) Accessing of tuples.\n"
      ],
      "metadata": {
        "id": "qMpBBMYlD5Kv"
      }
    },
    {
      "cell_type": "code",
      "source": [
        "thistuple = (\"apple\", \"banana\", \"cherry\")\n",
        "print(thistuple[1])"
      ],
      "metadata": {
        "colab": {
          "base_uri": "https://localhost:8080/"
        },
        "id": "E56CsbqREAyy",
        "outputId": "77c58e0a-7e4b-435e-b83c-36c0b02bd428"
      },
      "execution_count": null,
      "outputs": [
        {
          "output_type": "stream",
          "name": "stdout",
          "text": [
            "banana\n"
          ]
        }
      ]
    },
    {
      "cell_type": "code",
      "source": [
        "thistuple = (\"apple\", \"banana\", \"cherry\")\n",
        "print(thistuple[-1])"
      ],
      "metadata": {
        "colab": {
          "base_uri": "https://localhost:8080/"
        },
        "id": "cHgEi5HKEaTX",
        "outputId": "d1c446ca-0bc6-4dc4-8d54-cfef0f46e7c1"
      },
      "execution_count": null,
      "outputs": [
        {
          "output_type": "stream",
          "name": "stdout",
          "text": [
            "cherry\n"
          ]
        }
      ]
    },
    {
      "cell_type": "code",
      "source": [
        "thistuple = (\"apple\", \"banana\", \"cherry\", \"orange\", \"kiwi\", \"melon\", \"mango\")\n",
        "print(thistuple[2:5])"
      ],
      "metadata": {
        "colab": {
          "base_uri": "https://localhost:8080/"
        },
        "id": "1iUIy1zaEhal",
        "outputId": "0b251c35-1cc6-4b2f-dbf4-78525f88904e"
      },
      "execution_count": null,
      "outputs": [
        {
          "output_type": "stream",
          "name": "stdout",
          "text": [
            "('cherry', 'orange', 'kiwi')\n"
          ]
        }
      ]
    },
    {
      "cell_type": "code",
      "source": [
        "thistuple = (\"apple\", \"banana\", \"cherry\", \"orange\", \"kiwi\", \"melon\", \"mango\")\n",
        "print(thistuple[:4])"
      ],
      "metadata": {
        "colab": {
          "base_uri": "https://localhost:8080/"
        },
        "id": "Aaqff4sSEt9t",
        "outputId": "430d9147-6461-4876-8965-5daff112dff3"
      },
      "execution_count": null,
      "outputs": [
        {
          "output_type": "stream",
          "name": "stdout",
          "text": [
            "('apple', 'banana', 'cherry', 'orange')\n"
          ]
        }
      ]
    },
    {
      "cell_type": "code",
      "source": [
        "thistuple = (\"apple\", \"banana\", \"cherry\", \"orange\", \"kiwi\", \"melon\", \"mango\")\n",
        "print(thistuple[2:])"
      ],
      "metadata": {
        "colab": {
          "base_uri": "https://localhost:8080/"
        },
        "id": "xNrUS4E_E4XW",
        "outputId": "4d7ab626-1107-46d6-88ec-a0deb341d3c1"
      },
      "execution_count": null,
      "outputs": [
        {
          "output_type": "stream",
          "name": "stdout",
          "text": [
            "('cherry', 'orange', 'kiwi', 'melon', 'mango')\n"
          ]
        }
      ]
    },
    {
      "cell_type": "markdown",
      "source": [
        "4) Operation in tuples."
      ],
      "metadata": {
        "id": "9lxbp9dNE-mF"
      }
    },
    {
      "cell_type": "code",
      "source": [
        "tuple1 = (0, 1, 2, 3)\n",
        "tuple2 = ('python', 'java')\n",
        "print (tuple1 + tuple2)"
      ],
      "metadata": {
        "colab": {
          "base_uri": "https://localhost:8080/"
        },
        "id": "jFxpIsxKFICf",
        "outputId": "3705b26a-0116-4bd0-c3ab-d3cf328ef90f"
      },
      "execution_count": null,
      "outputs": [
        {
          "output_type": "stream",
          "name": "stdout",
          "text": [
            "(0, 1, 2, 3, 'python', 'java')\n"
          ]
        }
      ]
    },
    {
      "cell_type": "code",
      "source": [
        "tuple3 = ('python',)*3\n",
        "print(tuple3)"
      ],
      "metadata": {
        "colab": {
          "base_uri": "https://localhost:8080/"
        },
        "id": "JSOvimfUFon6",
        "outputId": "55847feb-ccbc-4d7d-ac35-ff1fbb7bb267"
      },
      "execution_count": null,
      "outputs": [
        {
          "output_type": "stream",
          "name": "stdout",
          "text": [
            "('python', 'python', 'python')\n"
          ]
        }
      ]
    },
    {
      "cell_type": "code",
      "source": [
        "name = (\"Chitra\", \"Riya\", \"Rupali\")\n",
        "a = (5,6,7,8,9)\n",
        "print(name + a)"
      ],
      "metadata": {
        "colab": {
          "base_uri": "https://localhost:8080/"
        },
        "id": "mMaBuF2xFw2g",
        "outputId": "d182f140-47cf-47d2-dd44-463278eedc72"
      },
      "execution_count": null,
      "outputs": [
        {
          "output_type": "stream",
          "name": "stdout",
          "text": [
            "('Chitra', 'Riya', 'Rupali', 5, 6, 7, 8, 9)\n"
          ]
        }
      ]
    },
    {
      "cell_type": "code",
      "source": [
        "numbers = (225, 335, 678, 890, 569)\n",
        "print (numbers*10)"
      ],
      "metadata": {
        "colab": {
          "base_uri": "https://localhost:8080/"
        },
        "id": "aZQV84z1Gfer",
        "outputId": "ad728108-b271-4b37-83b7-13f2cc224b65"
      },
      "execution_count": null,
      "outputs": [
        {
          "output_type": "stream",
          "name": "stdout",
          "text": [
            "(225, 335, 678, 890, 569, 225, 335, 678, 890, 569, 225, 335, 678, 890, 569, 225, 335, 678, 890, 569, 225, 335, 678, 890, 569, 225, 335, 678, 890, 569, 225, 335, 678, 890, 569, 225, 335, 678, 890, 569, 225, 335, 678, 890, 569, 225, 335, 678, 890, 569)\n"
          ]
        }
      ]
    },
    {
      "cell_type": "code",
      "source": [
        "my_tuple = (\"Jane\", \"John\", \"Emily\", \"Matt\")\n",
        "print (my_tuple*5)"
      ],
      "metadata": {
        "colab": {
          "base_uri": "https://localhost:8080/"
        },
        "id": "sQWCY_wEG7gL",
        "outputId": "a39ecb2e-b9a0-4ec5-e9e5-75ababfd8321"
      },
      "execution_count": null,
      "outputs": [
        {
          "output_type": "stream",
          "name": "stdout",
          "text": [
            "('Jane', 'John', 'Emily', 'Matt', 'Jane', 'John', 'Emily', 'Matt', 'Jane', 'John', 'Emily', 'Matt', 'Jane', 'John', 'Emily', 'Matt', 'Jane', 'John', 'Emily', 'Matt')\n"
          ]
        }
      ]
    },
    {
      "cell_type": "markdown",
      "source": [
        "5) Methods of tuples.\n",
        "-  count(): The count() method of Tuple returns the number of times the given element appears in the tuple."
      ],
      "metadata": {
        "id": "UNcWc85pHV7F"
      }
    },
    {
      "cell_type": "code",
      "source": [
        "thistuple = (1, 3, 7, 8, 7, 5, 4, 6, 8, 5)\n",
        "x = thistuple.count(7)\n",
        "print(x)\n"
      ],
      "metadata": {
        "colab": {
          "base_uri": "https://localhost:8080/"
        },
        "id": "k1FfjG2VHwGq",
        "outputId": "cc95c808-e571-4f3f-84c3-d5a77c0912b6"
      },
      "execution_count": null,
      "outputs": [
        {
          "output_type": "stream",
          "name": "stdout",
          "text": [
            "2\n"
          ]
        }
      ]
    },
    {
      "cell_type": "markdown",
      "source": [
        "*  index(): Searches the tuple for a specified value and returns the position of where it was found."
      ],
      "metadata": {
        "id": "0ZyOzIxAIIgI"
      }
    },
    {
      "cell_type": "code",
      "source": [
        "thistuple = (1, 3, 7, 8, 7, 5, 4, 6, 8, 5)\n",
        "x = thistuple.index(8)\n",
        "print(x)"
      ],
      "metadata": {
        "colab": {
          "base_uri": "https://localhost:8080/"
        },
        "id": "LBrFhqrTIQ5Y",
        "outputId": "d850a476-90cf-4032-b05a-11305ddadaad"
      },
      "execution_count": null,
      "outputs": [
        {
          "output_type": "stream",
          "name": "stdout",
          "text": [
            "3\n"
          ]
        }
      ]
    }
  ]
}