{
  "nbformat": 4,
  "nbformat_minor": 0,
  "metadata": {
    "colab": {
      "provenance": []
    },
    "kernelspec": {
      "name": "python3",
      "display_name": "Python 3"
    },
    "language_info": {
      "name": "python"
    }
  },
  "cells": [
    {
      "cell_type": "markdown",
      "source": [
        "1) Explain about operators?\n",
        "-  In Python programming, Operators in general are used to perform operations on values and variables.\n",
        "* In Python, operators are special symbols, combinations of symbols, or keywords that designate some type of computation.\n",
        "* Operators are the building blocks of expressions, which you can use to manipulate your data.\n",
        "* There are 7 types of operators in python:\n",
        " * Arithmetic operators\n",
        " * Assignment operators\n",
        " * Comparison operators\n",
        " * Logical operators\n",
        " * Identify operators\n",
        " * Membership operators\n",
        " * Bitwise operators"
      ],
      "metadata": {
        "id": "KV6JAJWYlFMH"
      }
    },
    {
      "cell_type": "markdown",
      "source": [
        "2) Define types of operators in python.\n",
        "-  Arithmetic operators are used to perform mathematical operations like addition, subtraction, multiplication, etc.\n",
        "*  (+) Addition\n",
        "*  (-) Subtraction\n",
        "*  (*) Multiplication\n",
        "*  (/) Division\n",
        "*  (//) Float\n",
        "*  (**) Exponential\n",
        "*  (%) Modulus\n",
        "*  Comparison operators-Comparison operators compare two values/variables and return a boolean result: True or False.\n",
        "*  (==) Really is equal to\n",
        "*  (!=) Not equal to\n",
        "*  (>) Greater than\n",
        "*  (<) Less than\n",
        "*  (>=) Greater than equal to\n",
        "*  (<=) Less than equal to\n",
        "*  Assignment operators-Assignment operators are used to assign values to variables.\n",
        "*  (=) Assignment\n",
        "*  (+=) Addition\n",
        "*  (-=) Subtraction\n",
        "*  (*=) Multiplication\n",
        "*  (/=) Division\n",
        "*  (%=) Remainder\n",
        "*  (**=) Exponent\n",
        "*  Logical operators-Logical operators are used to check whether an expression is True or False. They are used in decision-making.\n",
        "*  AND\n",
        "*  OR\n",
        "*  NOT\n",
        "*  Identity operators- Identity operators in python are use to compare the strong equivalence of two variables.\n",
        "*  Membership operators- The membership operators in Python help us determine whether an item is present in a given container type object, or in other words, whether an item is a member of the given container type object.\n",
        "* in, not in\n",
        "* Bitwise operators- Bitwise operators act on operands as if they were strings of binary digits. They operate bit by bit, hence the name.\n",
        "* (&) AND\n",
        "* OR\n",
        "* (~) NOT\n",
        "* (^) XOR\n",
        "* (>>) Right shift\n",
        "* (<<) Left shift\n",
        "\n"
      ],
      "metadata": {
        "id": "lW1ahJKvxlgA"
      }
    },
    {
      "cell_type": "markdown",
      "source": [
        "3) Explain every operators with examples?\n",
        "-  Arithmetic operators- Arithmetic operators are used to perform mathematical operations like addition, subtraction, multiplication, etc.\n"
      ],
      "metadata": {
        "id": "phOzUmhSCpB8"
      }
    },
    {
      "cell_type": "code",
      "source": [
        "a = 7\n",
        "b = 2\n",
        "print (a+b)"
      ],
      "metadata": {
        "colab": {
          "base_uri": "https://localhost:8080/"
        },
        "id": "9o1QUFzNDLD5",
        "outputId": "ff7b8539-5ae4-49fa-dec2-4a5b3c726651"
      },
      "execution_count": 1,
      "outputs": [
        {
          "output_type": "stream",
          "name": "stdout",
          "text": [
            "9\n"
          ]
        }
      ]
    },
    {
      "cell_type": "code",
      "source": [
        "a = 7\n",
        "b = 2\n",
        "print (a-b)"
      ],
      "metadata": {
        "colab": {
          "base_uri": "https://localhost:8080/"
        },
        "id": "wHp1ll50D8Ce",
        "outputId": "308b4d60-0907-4fd4-f35a-c73ed1d6b7a4"
      },
      "execution_count": 2,
      "outputs": [
        {
          "output_type": "stream",
          "name": "stdout",
          "text": [
            "5\n"
          ]
        }
      ]
    },
    {
      "cell_type": "code",
      "source": [
        "a = 7\n",
        "b = 2\n",
        "print (a*b)"
      ],
      "metadata": {
        "colab": {
          "base_uri": "https://localhost:8080/"
        },
        "id": "EYgxbQWyEIcl",
        "outputId": "c8c8abe9-5240-49aa-8325-4e2fb30a91d2"
      },
      "execution_count": 3,
      "outputs": [
        {
          "output_type": "stream",
          "name": "stdout",
          "text": [
            "14\n"
          ]
        }
      ]
    },
    {
      "cell_type": "code",
      "source": [
        "a = 7\n",
        "b = 2\n",
        "print (a/b)"
      ],
      "metadata": {
        "colab": {
          "base_uri": "https://localhost:8080/"
        },
        "id": "EImckCONEVOI",
        "outputId": "95718dba-2980-4ac1-aa07-c00c5ef7ee93"
      },
      "execution_count": 4,
      "outputs": [
        {
          "output_type": "stream",
          "name": "stdout",
          "text": [
            "3.5\n"
          ]
        }
      ]
    },
    {
      "cell_type": "code",
      "source": [
        "a = 7\n",
        "b = 2\n",
        "print (a//b)"
      ],
      "metadata": {
        "colab": {
          "base_uri": "https://localhost:8080/"
        },
        "id": "JHl5NvAjEdE_",
        "outputId": "75d6ef2d-c8cc-407c-92e4-c2348c72caf1"
      },
      "execution_count": 5,
      "outputs": [
        {
          "output_type": "stream",
          "name": "stdout",
          "text": [
            "3\n"
          ]
        }
      ]
    },
    {
      "cell_type": "code",
      "source": [
        "a = 7\n",
        "b = 2\n",
        "print (a%b)"
      ],
      "metadata": {
        "colab": {
          "base_uri": "https://localhost:8080/"
        },
        "id": "ivvDB_QBEm0e",
        "outputId": "c68ae5b3-f0e0-42cf-e370-b5b2877affd3"
      },
      "execution_count": 6,
      "outputs": [
        {
          "output_type": "stream",
          "name": "stdout",
          "text": [
            "1\n"
          ]
        }
      ]
    },
    {
      "cell_type": "code",
      "source": [
        "a = 7\n",
        "b = 2\n",
        "print (a**b)"
      ],
      "metadata": {
        "colab": {
          "base_uri": "https://localhost:8080/"
        },
        "id": "eAOc86JtEyJ8",
        "outputId": "e500793c-d8fa-486d-c403-db9475e70205"
      },
      "execution_count": 7,
      "outputs": [
        {
          "output_type": "stream",
          "name": "stdout",
          "text": [
            "49\n"
          ]
        }
      ]
    },
    {
      "cell_type": "markdown",
      "source": [
        "*  Assignment operators-"
      ],
      "metadata": {
        "id": "Lf_e9OSTInMd"
      }
    },
    {
      "cell_type": "code",
      "source": [
        "a = 2\n",
        "b = 5\n",
        "a += b\n",
        "a = a + b\n",
        "print (a)"
      ],
      "metadata": {
        "colab": {
          "base_uri": "https://localhost:8080/"
        },
        "id": "Z1Fh1KzTGOVR",
        "outputId": "46986467-de49-4b38-8066-6ba597407700"
      },
      "execution_count": 14,
      "outputs": [
        {
          "output_type": "stream",
          "name": "stdout",
          "text": [
            "12\n"
          ]
        }
      ]
    },
    {
      "cell_type": "code",
      "source": [
        "a = 2\n",
        "b = 5\n",
        "a -= b\n",
        "a = a - b\n",
        "print (a)"
      ],
      "metadata": {
        "colab": {
          "base_uri": "https://localhost:8080/"
        },
        "id": "9Khfz--zG1d0",
        "outputId": "9cdff87e-aca9-43fe-d718-2001ef935be4"
      },
      "execution_count": 15,
      "outputs": [
        {
          "output_type": "stream",
          "name": "stdout",
          "text": [
            "-8\n"
          ]
        }
      ]
    },
    {
      "cell_type": "code",
      "source": [
        "a = 2\n",
        "b = 5\n",
        "a *= b\n",
        "a = a*b\n",
        "print (a)"
      ],
      "metadata": {
        "colab": {
          "base_uri": "https://localhost:8080/"
        },
        "id": "-f3_mh_XHUWe",
        "outputId": "b6c6c3d8-33a4-4c06-c5d9-b4d130f3a94b"
      },
      "execution_count": 16,
      "outputs": [
        {
          "output_type": "stream",
          "name": "stdout",
          "text": [
            "50\n"
          ]
        }
      ]
    },
    {
      "cell_type": "code",
      "source": [
        "a = 2\n",
        "b = 5\n",
        "a /= b\n",
        "a = a/b\n",
        "print (a)"
      ],
      "metadata": {
        "colab": {
          "base_uri": "https://localhost:8080/"
        },
        "id": "egTqFo1SHjg-",
        "outputId": "d59136e4-61b3-452b-bbb2-c73d0dec1b68"
      },
      "execution_count": 17,
      "outputs": [
        {
          "output_type": "stream",
          "name": "stdout",
          "text": [
            "0.08\n"
          ]
        }
      ]
    },
    {
      "cell_type": "code",
      "source": [
        "a = 2\n",
        "b = 5\n",
        "a %= b\n",
        "a = a%b\n",
        "print (a)\n"
      ],
      "metadata": {
        "colab": {
          "base_uri": "https://localhost:8080/"
        },
        "id": "hC5GVB10HyBQ",
        "outputId": "a87b5ef2-51b5-4de4-f241-c2a85814e258"
      },
      "execution_count": 18,
      "outputs": [
        {
          "output_type": "stream",
          "name": "stdout",
          "text": [
            "2\n"
          ]
        }
      ]
    },
    {
      "cell_type": "code",
      "source": [
        "a = 2\n",
        "b = 5\n",
        "a **= b\n",
        "a = a**b\n",
        "print (a)"
      ],
      "metadata": {
        "colab": {
          "base_uri": "https://localhost:8080/"
        },
        "id": "YqZdMvwSIHjc",
        "outputId": "b789e6f5-06f0-4543-fa43-c5ca689c9e40"
      },
      "execution_count": 19,
      "outputs": [
        {
          "output_type": "stream",
          "name": "stdout",
          "text": [
            "33554432\n"
          ]
        }
      ]
    },
    {
      "cell_type": "markdown",
      "source": [
        "*  Comparison operators-"
      ],
      "metadata": {
        "id": "gw71s47FIgOc"
      }
    },
    {
      "cell_type": "code",
      "source": [
        "a = 8\n",
        "b = 3\n",
        "a == b"
      ],
      "metadata": {
        "colab": {
          "base_uri": "https://localhost:8080/"
        },
        "id": "-M2WJW6LI7Fj",
        "outputId": "a39b3497-d207-429b-f653-7b7190dbb8af"
      },
      "execution_count": 20,
      "outputs": [
        {
          "output_type": "execute_result",
          "data": {
            "text/plain": [
              "False"
            ]
          },
          "metadata": {},
          "execution_count": 20
        }
      ]
    },
    {
      "cell_type": "code",
      "source": [
        "a = 8\n",
        "b = 3\n",
        "a != b\n"
      ],
      "metadata": {
        "colab": {
          "base_uri": "https://localhost:8080/"
        },
        "id": "SpPcrvV3JSRL",
        "outputId": "9a7f18da-944b-49f1-ab07-e358f2a5194a"
      },
      "execution_count": 21,
      "outputs": [
        {
          "output_type": "execute_result",
          "data": {
            "text/plain": [
              "True"
            ]
          },
          "metadata": {},
          "execution_count": 21
        }
      ]
    },
    {
      "cell_type": "code",
      "source": [
        "a = 8\n",
        "b = 3\n",
        "a > b"
      ],
      "metadata": {
        "colab": {
          "base_uri": "https://localhost:8080/"
        },
        "id": "zZeSLorJJlWg",
        "outputId": "197bf27f-0442-4fce-ea29-82964394962b"
      },
      "execution_count": 22,
      "outputs": [
        {
          "output_type": "execute_result",
          "data": {
            "text/plain": [
              "True"
            ]
          },
          "metadata": {},
          "execution_count": 22
        }
      ]
    },
    {
      "cell_type": "code",
      "source": [
        "a = 8\n",
        "b = 3\n",
        "a < b"
      ],
      "metadata": {
        "colab": {
          "base_uri": "https://localhost:8080/"
        },
        "id": "f2YHZQPJJ5US",
        "outputId": "35b739b1-c5c4-40a6-add2-ad96d347053a"
      },
      "execution_count": 23,
      "outputs": [
        {
          "output_type": "execute_result",
          "data": {
            "text/plain": [
              "False"
            ]
          },
          "metadata": {},
          "execution_count": 23
        }
      ]
    },
    {
      "cell_type": "code",
      "source": [
        "a = 8\n",
        "b = 3\n",
        "a >= b"
      ],
      "metadata": {
        "colab": {
          "base_uri": "https://localhost:8080/"
        },
        "id": "VKFKzSLwKBez",
        "outputId": "188e6c7a-fe0d-4a3d-c32e-b993573caff4"
      },
      "execution_count": 24,
      "outputs": [
        {
          "output_type": "execute_result",
          "data": {
            "text/plain": [
              "True"
            ]
          },
          "metadata": {},
          "execution_count": 24
        }
      ]
    },
    {
      "cell_type": "code",
      "source": [
        "a = 8\n",
        "b = 3\n",
        "a <= b"
      ],
      "metadata": {
        "colab": {
          "base_uri": "https://localhost:8080/"
        },
        "id": "EMf1pRyfKJlJ",
        "outputId": "cee5ca5c-5a65-439c-abd3-6c62c9f5a919"
      },
      "execution_count": 25,
      "outputs": [
        {
          "output_type": "execute_result",
          "data": {
            "text/plain": [
              "False"
            ]
          },
          "metadata": {},
          "execution_count": 25
        }
      ]
    },
    {
      "cell_type": "markdown",
      "source": [
        "*  Logical operators-"
      ],
      "metadata": {
        "id": "P50T4WphKQoa"
      }
    },
    {
      "cell_type": "code",
      "source": [
        "a = 5\n",
        "b = 1\n",
        "a > b & a < b"
      ],
      "metadata": {
        "colab": {
          "base_uri": "https://localhost:8080/"
        },
        "id": "GHzKO5AvKfGH",
        "outputId": "d1d4a366-22fe-45a3-9403-a4a130e99800"
      },
      "execution_count": 26,
      "outputs": [
        {
          "output_type": "execute_result",
          "data": {
            "text/plain": [
              "False"
            ]
          },
          "metadata": {},
          "execution_count": 26
        }
      ]
    },
    {
      "cell_type": "code",
      "source": [
        "a = 0\n",
        "b = 1\n",
        "b > a & a < b"
      ],
      "metadata": {
        "colab": {
          "base_uri": "https://localhost:8080/"
        },
        "id": "1piX0EpUK5vL",
        "outputId": "77ee6fbb-1d6b-4ab6-e691-c7b3fd11475c"
      },
      "execution_count": 27,
      "outputs": [
        {
          "output_type": "execute_result",
          "data": {
            "text/plain": [
              "True"
            ]
          },
          "metadata": {},
          "execution_count": 27
        }
      ]
    },
    {
      "cell_type": "code",
      "source": [
        "a = 10\n",
        "b = 5\n",
        "a < b & a > b"
      ],
      "metadata": {
        "colab": {
          "base_uri": "https://localhost:8080/"
        },
        "id": "ottOAK_tMzbb",
        "outputId": "b46a0f9c-d9cd-4837-c237-e88217cf3640"
      },
      "execution_count": 32,
      "outputs": [
        {
          "output_type": "execute_result",
          "data": {
            "text/plain": [
              "False"
            ]
          },
          "metadata": {},
          "execution_count": 32
        }
      ]
    }
  ]
}