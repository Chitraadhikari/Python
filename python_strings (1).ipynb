{
  "nbformat": 4,
  "nbformat_minor": 0,
  "metadata": {
    "colab": {
      "provenance": []
    },
    "kernelspec": {
      "name": "python3",
      "display_name": "Python 3"
    },
    "language_info": {
      "name": "python"
    }
  },
  "cells": [
    {
      "cell_type": "markdown",
      "source": [
        "1) Define about strings.\n",
        "-  Strings in python are surrounded by either single quotation marks, or double quotation marks.\n",
        "\n",
        "*  'hello' is the same as \"hello\".\n",
        "*  In Python, a string is a sequence of characters."
      ],
      "metadata": {
        "id": "NWPeCkzToJqX"
      }
    },
    {
      "cell_type": "markdown",
      "source": [
        "2) Create 10 examples using ' ' and \" \" .\n"
      ],
      "metadata": {
        "id": "gltwfem-o-fK"
      }
    },
    {
      "cell_type": "code",
      "source": [
        "str1 = 'Python programming'\n",
        "print (str1)\n",
        "\n",
        "name = \"Python\"\n",
        "print (name)\n",
        "\n",
        "message = \"I love python\"\n",
        "print (message)\n",
        "\n",
        "greet = 'hello'\n",
        "print (greet)\n",
        "\n",
        "x = \"Cherry, Banana, Mango, Apple\"\n",
        "y = x*5\n",
        "print (y)\n",
        "\n",
        "name = 'chef'\n",
        "print (name)\n",
        "\n",
        "str0 = \"A computer science portal for geeks\"\n",
        "print (str0)\n",
        "\n",
        "abc = '1, 2, 3'\n",
        "print (abc)\n",
        "\n",
        "str1 = \"\"\"My name is Chitra and I'm from Maharashtra\"\"\"\n",
        "print (str1)\n",
        "\n",
        "str2 = \"My name is Chitra\"\n",
        "print (str2)"
      ],
      "metadata": {
        "colab": {
          "base_uri": "https://localhost:8080/"
        },
        "id": "Ls0w_iuypnNT",
        "outputId": "f1589ef9-4cc1-499b-f952-fd2517bd9be6"
      },
      "execution_count": null,
      "outputs": [
        {
          "output_type": "stream",
          "name": "stdout",
          "text": [
            "Python programming\n",
            "Python\n",
            "I love python\n",
            "hello\n",
            "Cherry, Banana, Mango, AppleCherry, Banana, Mango, AppleCherry, Banana, Mango, AppleCherry, Banana, Mango, AppleCherry, Banana, Mango, Apple\n",
            "chef\n",
            "A computer science portal for geeks\n",
            "1, 2, 3\n",
            "My name is Chitra and I'm from Maharashtra\n",
            "My name is Chitra\n"
          ]
        }
      ]
    },
    {
      "cell_type": "markdown",
      "source": [
        "3) Create a string 50 characters and access any 10 using index and apply slicing in any 2 examples."
      ],
      "metadata": {
        "id": "33Y4Cz8Kt-DV"
      }
    },
    {
      "cell_type": "code",
      "source": [
        "#indexing\n",
        "str = \"I'm Chitra and I've done engineering.\"\n",
        "print (str[7])\n",
        "print (str[1])\n",
        "print (str[35])\n",
        "print (str[23])\n",
        "print (str[-5])\n",
        "print (str[-10])\n",
        "print (str[30])\n",
        "print (str[-1])\n",
        "print (str[10])\n",
        "print (len(str))\n",
        "\n",
        "#slicing\n",
        "print (str[10:23])\n",
        "print (str[30:32])\n",
        "\n"
      ],
      "metadata": {
        "colab": {
          "base_uri": "https://localhost:8080/"
        },
        "id": "45WklFX6umWg",
        "outputId": "601e080f-0008-4638-ac8e-7878d4a8b5e9"
      },
      "execution_count": null,
      "outputs": [
        {
          "output_type": "stream",
          "name": "stdout",
          "text": [
            "t\n",
            "'\n",
            "g\n",
            "e\n",
            "r\n",
            "g\n",
            "e\n",
            ".\n",
            " \n",
            "37\n",
            " and I've don\n",
            "ee\n"
          ]
        }
      ]
    },
    {
      "cell_type": "markdown",
      "source": [
        "4) Explain about string formats.\n",
        "*  1. Old style formatting (% operator):It is the oldest method of string formatting. Here we use the modulo % operator. The modulo % is also known as the “string-formatting operator”."
      ],
      "metadata": {
        "id": "QQjurA-_x4yc"
      }
    },
    {
      "cell_type": "code",
      "source": [
        "name = \"Chitra\"\n",
        "age = 22\n",
        "formatted_string = \"My name is %s and I am %d years old.\"%(name,age)\n",
        "print (formatted_string)"
      ],
      "metadata": {
        "colab": {
          "base_uri": "https://localhost:8080/"
        },
        "id": "6a3JkjEGz6i3",
        "outputId": "20c3d308-50c1-4192-a9db-1513b07d870b"
      },
      "execution_count": null,
      "outputs": [
        {
          "output_type": "stream",
          "name": "stdout",
          "text": [
            "My name is Chitra and I am 22 years old.\n"
          ]
        }
      ]
    },
    {
      "cell_type": "markdown",
      "source": [
        "2. Format Method: This code is using {} as a placeholder and then we have called.format() method on the ‘equal’ to the placeholder."
      ],
      "metadata": {
        "id": "xpgJiJbr00d-"
      }
    },
    {
      "cell_type": "code",
      "source": [
        "name = \"Chitra\"\n",
        "age = 22\n",
        "str = \"My name is {} and I'm {} years old\".format(name,age)\n",
        "print (str)"
      ],
      "metadata": {
        "colab": {
          "base_uri": "https://localhost:8080/"
        },
        "id": "SCi8RpTI3BaC",
        "outputId": "67e210f6-834d-42f2-c5f2-4471e2896c61"
      },
      "execution_count": null,
      "outputs": [
        {
          "output_type": "stream",
          "name": "stdout",
          "text": [
            "My name is Chitra and I'm 22 years old\n"
          ]
        }
      ]
    },
    {
      "cell_type": "markdown",
      "source": [
        "3. f-string: PEP 498 introduced a new string formatting mechanism known as Literal String Interpolation or more commonly as F-strings.The idea behind f-String in Python is to make string interpolation simpler."
      ],
      "metadata": {
        "id": "F1d-L88F3vAO"
      }
    },
    {
      "cell_type": "code",
      "source": [
        "name = \"Chitra\"\n",
        "str =f\"My name is {name}.\"\n",
        "print (str)"
      ],
      "metadata": {
        "colab": {
          "base_uri": "https://localhost:8080/"
        },
        "id": "l65yKH2Q4O56",
        "outputId": "593770a5-ccc0-4b74-8480-65b9813f5c44"
      },
      "execution_count": null,
      "outputs": [
        {
          "output_type": "stream",
          "name": "stdout",
          "text": [
            "My name is Chitra.\n"
          ]
        }
      ]
    },
    {
      "cell_type": "markdown",
      "source": [
        "5) Apply operations.\n",
        "-  Concatenation:"
      ],
      "metadata": {
        "id": "zRBuWtkePVrf"
      }
    },
    {
      "cell_type": "code",
      "source": [
        "str1 = \"Hello\"\n",
        "str2 = \"World\"\n",
        "str3 = str1+str2\n",
        "print (str3)"
      ],
      "metadata": {
        "colab": {
          "base_uri": "https://localhost:8080/"
        },
        "id": "GnUtuGFoPi9Q",
        "outputId": "e02b7dda-5f77-4593-e68a-840ba1c6d792"
      },
      "execution_count": null,
      "outputs": [
        {
          "output_type": "stream",
          "name": "stdout",
          "text": [
            "HelloWorld\n"
          ]
        }
      ]
    },
    {
      "cell_type": "markdown",
      "source": [
        "*  Repitition:"
      ],
      "metadata": {
        "id": "UvsNMZYGQlyQ"
      }
    },
    {
      "cell_type": "code",
      "source": [
        "str1 = \" Hello World \"\n",
        "str2 =str1*10\n",
        "print (str2)"
      ],
      "metadata": {
        "colab": {
          "base_uri": "https://localhost:8080/"
        },
        "id": "g6oi4bc_QvSv",
        "outputId": "435fe282-ebe6-43d5-9374-5f858e242f3f"
      },
      "execution_count": null,
      "outputs": [
        {
          "output_type": "stream",
          "name": "stdout",
          "text": [
            " Hello World  Hello World  Hello World  Hello World  Hello World  Hello World  Hello World  Hello World  Hello World  Hello World \n"
          ]
        }
      ]
    },
    {
      "cell_type": "markdown",
      "source": [
        "*  Slicing:"
      ],
      "metadata": {
        "id": "SyL6Vb10RPlp"
      }
    },
    {
      "cell_type": "code",
      "source": [
        "String = 'ASTRING'\n",
        "\n",
        "# Using slicing\n",
        "s1 = slice(3)\n",
        "s2 = slice(1, 5, 2)\n",
        "s3 = slice(-1, -12, -2)\n",
        "\n",
        "print(\"String slicing\")\n",
        "print(String[s1])\n",
        "print(String[s2])\n",
        "print(String[s3])"
      ],
      "metadata": {
        "colab": {
          "base_uri": "https://localhost:8080/"
        },
        "id": "e1ucrprYSj8T",
        "outputId": "a092e4ae-e222-492f-8dd6-d1f03ac323bc"
      },
      "execution_count": null,
      "outputs": [
        {
          "output_type": "stream",
          "name": "stdout",
          "text": [
            "String slicing\n",
            "AST\n",
            "SR\n",
            "GITA\n"
          ]
        }
      ]
    },
    {
      "cell_type": "markdown",
      "source": [
        "*  Indexing:"
      ],
      "metadata": {
        "id": "6YCCDoXSS6MR"
      }
    },
    {
      "cell_type": "code",
      "source": [
        "str = \"My name is Chitra.\"\n",
        "print (str[10:-1])\n",
        "print (str[8:10])"
      ],
      "metadata": {
        "colab": {
          "base_uri": "https://localhost:8080/"
        },
        "id": "ocuW-mvlS_HE",
        "outputId": "80e8ddfd-9e2f-48d9-c3f4-119260b23684"
      },
      "execution_count": null,
      "outputs": [
        {
          "output_type": "stream",
          "name": "stdout",
          "text": [
            " Chitra\n",
            "is\n"
          ]
        }
      ]
    },
    {
      "cell_type": "markdown",
      "source": [
        "6) Apply methods.\n",
        "*  len(): It is used to count the length of the string."
      ],
      "metadata": {
        "id": "4QwcMAlfTkn9"
      }
    },
    {
      "cell_type": "code",
      "source": [
        "name = \"Chitra\"\n",
        "length = len (name)\n",
        "print (length)"
      ],
      "metadata": {
        "colab": {
          "base_uri": "https://localhost:8080/"
        },
        "id": "Ua-jrfFOdwMw",
        "outputId": "ff068bb6-d04b-4a93-9bdc-6caafa675fff"
      },
      "execution_count": null,
      "outputs": [
        {
          "output_type": "stream",
          "name": "stdout",
          "text": [
            "6\n"
          ]
        }
      ]
    },
    {
      "cell_type": "markdown",
      "source": [
        "*  lower()/upper(): Converts all characters in a string to lowercase/uppercase."
      ],
      "metadata": {
        "id": "Jsas3N3Vd-WE"
      }
    },
    {
      "cell_type": "code",
      "source": [
        "name = \"Chitra\"\n",
        "print(name.upper())"
      ],
      "metadata": {
        "colab": {
          "base_uri": "https://localhost:8080/"
        },
        "id": "HyRtZ5SGeU_i",
        "outputId": "8e0b3965-44e3-4c98-d3a8-2f1875a5fc1f"
      },
      "execution_count": null,
      "outputs": [
        {
          "output_type": "stream",
          "name": "stdout",
          "text": [
            "CHITRA\n"
          ]
        }
      ]
    },
    {
      "cell_type": "markdown",
      "source": [
        "*  Strip(): Removes any leading and trailing characters."
      ],
      "metadata": {
        "id": "BzkGJS9rezxU"
      }
    },
    {
      "cell_type": "code",
      "source": [
        "name = \" Chitra \"\n",
        "stripped_string = name.strip()\n",
        "print(stripped_string)"
      ],
      "metadata": {
        "colab": {
          "base_uri": "https://localhost:8080/"
        },
        "id": "Lis_uKgje_uc",
        "outputId": "37c829ed-9326-417b-9e79-2de51d4c05d5"
      },
      "execution_count": null,
      "outputs": [
        {
          "output_type": "stream",
          "name": "stdout",
          "text": [
            "Chitra\n"
          ]
        }
      ]
    },
    {
      "cell_type": "markdown",
      "source": [
        "*  replaces(): Replaces occurrences of a substring within the string."
      ],
      "metadata": {
        "id": "_TTzBNCjffZy"
      }
    },
    {
      "cell_type": "code",
      "source": [
        "str1 = \"Hi,I am Chitra.\"\n",
        "str2 = str1.replace (\"Chitra\",\"Rupali\")\n",
        "print (str2)\n"
      ],
      "metadata": {
        "colab": {
          "base_uri": "https://localhost:8080/"
        },
        "id": "lPLywSuYfpjx",
        "outputId": "5859d37c-5728-4d0c-ccc2-7c48485c05b3"
      },
      "execution_count": null,
      "outputs": [
        {
          "output_type": "stream",
          "name": "stdout",
          "text": [
            "Hi,I am Rupali.\n"
          ]
        }
      ]
    },
    {
      "cell_type": "markdown",
      "source": [
        "*  spilt(): Splits the string at the specified delimiter and returns a list of substrings."
      ],
      "metadata": {
        "id": "gp0A9WB2gW4n"
      }
    },
    {
      "cell_type": "code",
      "source": [
        "str1 = \"I live in Maharashtra.\"\n",
        "str2 = str1.split()\n",
        "print (str2)"
      ],
      "metadata": {
        "colab": {
          "base_uri": "https://localhost:8080/"
        },
        "id": "Ki99HLjeghBI",
        "outputId": "e34b9de2-e1fd-40e6-dcce-021d178b3d01"
      },
      "execution_count": null,
      "outputs": [
        {
          "output_type": "stream",
          "name": "stdout",
          "text": [
            "['I', 'live', 'in', 'Maharashtra.']\n"
          ]
        }
      ]
    },
    {
      "cell_type": "markdown",
      "source": [
        "*  join(): Concatenates elements of an iterable with a specified separator."
      ],
      "metadata": {
        "id": "1oyKywTwhIJk"
      }
    },
    {
      "cell_type": "code",
      "source": [
        "fruits = \"Cherry\",\"Apple\",\"Mango\"\n",
        "print (\" \".join(fruits))"
      ],
      "metadata": {
        "colab": {
          "base_uri": "https://localhost:8080/"
        },
        "id": "RBV7bpFfhUJi",
        "outputId": "f5a87076-8dbb-4d6f-8f1d-c2ce6fcf001e"
      },
      "execution_count": null,
      "outputs": [
        {
          "output_type": "stream",
          "name": "stdout",
          "text": [
            "Cherry Apple Mango\n"
          ]
        }
      ]
    },
    {
      "cell_type": "markdown",
      "source": [
        "*  find(): Returns the lowest index in the string where the substring is found."
      ],
      "metadata": {
        "id": "uFRxHhTziL1u"
      }
    },
    {
      "cell_type": "code",
      "source": [
        "str1 = \"I live in Maharashtra.\"\n",
        "print (str1.find('live'))"
      ],
      "metadata": {
        "colab": {
          "base_uri": "https://localhost:8080/"
        },
        "id": "Qimp98UpiXuF",
        "outputId": "9d6bdb4d-1400-48ad-d3e8-46b3efb00c21"
      },
      "execution_count": null,
      "outputs": [
        {
          "output_type": "stream",
          "name": "stdout",
          "text": [
            "2\n"
          ]
        }
      ]
    },
    {
      "cell_type": "markdown",
      "source": [
        "*  startswith()/endswith(): Checks if the string starts with the specified prefix/suffix."
      ],
      "metadata": {
        "id": "P9L9zb9Ci9Ez"
      }
    },
    {
      "cell_type": "code",
      "source": [
        "name = \"Hyderabad\"\n",
        "str1 = name.endswith('bad')\n",
        "print (str1)"
      ],
      "metadata": {
        "colab": {
          "base_uri": "https://localhost:8080/"
        },
        "id": "uzhR0X5ijcaz",
        "outputId": "95d902fc-20dd-4bfa-e4bc-30c4f82f1ca5"
      },
      "execution_count": null,
      "outputs": [
        {
          "output_type": "stream",
          "name": "stdout",
          "text": [
            "True\n"
          ]
        }
      ]
    },
    {
      "cell_type": "markdown",
      "source": [
        " *   capitalize():Converts the first character of the string to a capital (uppercase) letter."
      ],
      "metadata": {
        "id": "6NctW3OlkGIW"
      }
    },
    {
      "cell_type": "code",
      "source": [
        "str = \"mango\"\n",
        "str1 = str.capitalize()\n",
        "print (str1)"
      ],
      "metadata": {
        "colab": {
          "base_uri": "https://localhost:8080/"
        },
        "id": "Y0wxWhADkg_F",
        "outputId": "0c273f70-9b4c-48d0-ff46-35644d509ccc"
      },
      "execution_count": null,
      "outputs": [
        {
          "output_type": "stream",
          "name": "stdout",
          "text": [
            "Mango\n"
          ]
        }
      ]
    },
    {
      "cell_type": "markdown",
      "source": [
        "*  casefold(): Implements caseless string matching."
      ],
      "metadata": {
        "id": "y2tQ9XmLlNAI"
      }
    },
    {
      "cell_type": "code",
      "source": [
        "city =\"MANgO\"\n",
        "str = str.casefold()\n",
        "print (str)"
      ],
      "metadata": {
        "colab": {
          "base_uri": "https://localhost:8080/"
        },
        "id": "sXWb0IlllXUT",
        "outputId": "e1111d42-9404-4059-d52e-d7b79f1ac1f1"
      },
      "execution_count": null,
      "outputs": [
        {
          "output_type": "stream",
          "name": "stdout",
          "text": [
            "mango\n"
          ]
        }
      ]
    },
    {
      "cell_type": "markdown",
      "source": [
        "*  center(): Pad the string with the specified character."
      ],
      "metadata": {
        "id": "aEx63XG2mCUq"
      }
    },
    {
      "cell_type": "code",
      "source": [
        "city = \"Maharashtra\"\n",
        "print (city.center(45))"
      ],
      "metadata": {
        "colab": {
          "base_uri": "https://localhost:8080/"
        },
        "id": "BKIc8GpImQpw",
        "outputId": "809918fb-fe45-41a9-8c89-0cc8c56fe58d"
      },
      "execution_count": null,
      "outputs": [
        {
          "output_type": "stream",
          "name": "stdout",
          "text": [
            "                 Maharashtra                 \n"
          ]
        }
      ]
    },
    {
      "cell_type": "markdown",
      "source": [
        "*  count(): Returns the number of occurrences of a substring in the string."
      ],
      "metadata": {
        "id": "QY7UQPeOmu4D"
      }
    },
    {
      "cell_type": "code",
      "source": [
        "str = \"I live in Maharashtra\"\n",
        "print (str.count('live'))"
      ],
      "metadata": {
        "colab": {
          "base_uri": "https://localhost:8080/"
        },
        "id": "03PdcPYOm53E",
        "outputId": "8d37c61b-6164-4ab2-e059-5fb51208f1dd"
      },
      "execution_count": null,
      "outputs": [
        {
          "output_type": "stream",
          "name": "stdout",
          "text": [
            "1\n"
          ]
        }
      ]
    },
    {
      "cell_type": "markdown",
      "source": [
        "*  encode(): Encodes strings with the specified encoded scheme."
      ],
      "metadata": {
        "id": "ZVcPPhLQn0qS"
      }
    },
    {
      "cell_type": "code",
      "source": [
        "str1 = \"Maharashtra\"\n",
        "str2 = str1.encode()\n",
        "print (str2)"
      ],
      "metadata": {
        "colab": {
          "base_uri": "https://localhost:8080/"
        },
        "id": "BVbK7bB3oCM9",
        "outputId": "392f0ba2-15ac-4fba-b235-5709125fd14a"
      },
      "execution_count": null,
      "outputs": [
        {
          "output_type": "stream",
          "name": "stdout",
          "text": [
            "b'Maharashtra'\n"
          ]
        }
      ]
    },
    {
      "cell_type": "markdown",
      "source": [
        "*  expandstab(): Specifies the amount of space to be substituted with the “\\t” symbol in the string."
      ],
      "metadata": {
        "id": "uT_3W2Tooqlk"
      }
    },
    {
      "cell_type": "code",
      "source": [
        "string = \"\\t\\tCenter\\t\\t\"\n",
        "print(string.expandtabs())\n"
      ],
      "metadata": {
        "colab": {
          "base_uri": "https://localhost:8080/"
        },
        "id": "iyEbBS4qo5P6",
        "outputId": "4775c1ba-441f-423f-e7c9-a64dbec32264"
      },
      "execution_count": null,
      "outputs": [
        {
          "output_type": "stream",
          "name": "stdout",
          "text": [
            "                Center          \n"
          ]
        }
      ]
    },
    {
      "cell_type": "markdown",
      "source": [
        "*  find(): Returns the lowest index of the substring if it is found."
      ],
      "metadata": {
        "id": "FSzSzLtppLs6"
      }
    },
    {
      "cell_type": "code",
      "source": [
        "str = \"My name is Chitra.\"\n",
        "print = str.find('name')"
      ],
      "metadata": {
        "id": "pqN5EGf3p_sA"
      },
      "execution_count": null,
      "outputs": []
    },
    {
      "cell_type": "markdown",
      "source": [
        "*  format(): Formats the string for printing it to console."
      ],
      "metadata": {
        "id": "6JZB_oy-qZdz"
      }
    },
    {
      "cell_type": "code",
      "source": [
        "name=\"chitra\"\n",
        "age=22\n",
        "formated_string=\"my name is {} and i'm {} years old\" .format(name,age)\n",
        "print(formated_string)"
      ],
      "metadata": {
        "colab": {
          "base_uri": "https://localhost:8080/",
          "height": 176
        },
        "id": "M9GZk1ESsqJS",
        "outputId": "7cd9f478-94da-416b-ed9a-29528673952b"
      },
      "execution_count": null,
      "outputs": [
        {
          "output_type": "error",
          "ename": "TypeError",
          "evalue": "'int' object is not callable",
          "traceback": [
            "\u001b[0;31m---------------------------------------------------------------------------\u001b[0m",
            "\u001b[0;31mTypeError\u001b[0m                                 Traceback (most recent call last)",
            "\u001b[0;32m<ipython-input-47-6e098ebd4c4b>\u001b[0m in \u001b[0;36m<cell line: 4>\u001b[0;34m()\u001b[0m\n\u001b[1;32m      2\u001b[0m \u001b[0mage\u001b[0m\u001b[0;34m=\u001b[0m\u001b[0;36m22\u001b[0m\u001b[0;34m\u001b[0m\u001b[0;34m\u001b[0m\u001b[0m\n\u001b[1;32m      3\u001b[0m \u001b[0mformated_string\u001b[0m\u001b[0;34m=\u001b[0m\u001b[0;34m\"my name is {} and i'm {} years old\"\u001b[0m \u001b[0;34m.\u001b[0m\u001b[0mformat\u001b[0m\u001b[0;34m(\u001b[0m\u001b[0mname\u001b[0m\u001b[0;34m,\u001b[0m\u001b[0mage\u001b[0m\u001b[0;34m)\u001b[0m\u001b[0;34m\u001b[0m\u001b[0;34m\u001b[0m\u001b[0m\n\u001b[0;32m----> 4\u001b[0;31m \u001b[0mprint\u001b[0m\u001b[0;34m(\u001b[0m\u001b[0mformated_string\u001b[0m\u001b[0;34m)\u001b[0m\u001b[0;34m\u001b[0m\u001b[0;34m\u001b[0m\u001b[0m\n\u001b[0m",
            "\u001b[0;31mTypeError\u001b[0m: 'int' object is not callable"
          ]
        }
      ]
    }
  ]
}