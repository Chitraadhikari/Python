{
  "nbformat": 4,
  "nbformat_minor": 0,
  "metadata": {
    "colab": {
      "provenance": []
    },
    "kernelspec": {
      "name": "python3",
      "display_name": "Python 3"
    },
    "language_info": {
      "name": "python"
    }
  },
  "cells": [
    {
      "cell_type": "markdown",
      "source": [
        "1) Define about sets.\n",
        "-  A Set in Python programming is an unordered collection data type that is iterable and has no duplicate elements.\n",
        "*   While sets are mutable, meaning you can add or remove elements after their creation, the individual elements within the set must be immutable and cannot be changed directly."
      ],
      "metadata": {
        "id": "hA-CWYPYItZZ"
      }
    },
    {
      "cell_type": "markdown",
      "source": [
        "2) Give 10 examples of sets."
      ],
      "metadata": {
        "id": "nsq85iHCJElP"
      }
    },
    {
      "cell_type": "code",
      "source": [
        "fruits = {\"apple\", \"mango\", \"kiwi\"}\n",
        "print (type(fruits))"
      ],
      "metadata": {
        "colab": {
          "base_uri": "https://localhost:8080/"
        },
        "id": "OQZGE2hHJJdv",
        "outputId": "6f8ec7a2-710b-44ae-93d7-9135768d4532"
      },
      "execution_count": null,
      "outputs": [
        {
          "output_type": "stream",
          "name": "stdout",
          "text": [
            "<class 'set'>\n"
          ]
        }
      ]
    },
    {
      "cell_type": "code",
      "source": [
        "fruits = {\"apple\", \"mango\", \"kiwi\"}\n",
        "print (fruits)"
      ],
      "metadata": {
        "colab": {
          "base_uri": "https://localhost:8080/"
        },
        "id": "iq38MbnUJgx8",
        "outputId": "fdd95cc3-d27e-4c4f-914b-180157d0a310"
      },
      "execution_count": null,
      "outputs": [
        {
          "output_type": "stream",
          "name": "stdout",
          "text": [
            "{'kiwi', 'mango', 'apple'}\n"
          ]
        }
      ]
    },
    {
      "cell_type": "code",
      "source": [
        "myset = set([\"a\", \"b\", \"c\"])\n",
        "print(myset)"
      ],
      "metadata": {
        "colab": {
          "base_uri": "https://localhost:8080/"
        },
        "id": "vGJRjb96JyLx",
        "outputId": "3cd4365c-42e1-4046-9340-3ca8f9463550"
      },
      "execution_count": null,
      "outputs": [
        {
          "output_type": "stream",
          "name": "stdout",
          "text": [
            "{'c', 'a', 'b'}\n"
          ]
        }
      ]
    },
    {
      "cell_type": "code",
      "source": [
        "sample_set = {'Mark', 'Jessa', 25, 75.25}\n",
        "print(sample_set)"
      ],
      "metadata": {
        "colab": {
          "base_uri": "https://localhost:8080/"
        },
        "id": "p06TeloAJ7aI",
        "outputId": "53c8b215-46c9-4cb1-c9c8-136063cdc39f"
      },
      "execution_count": null,
      "outputs": [
        {
          "output_type": "stream",
          "name": "stdout",
          "text": [
            "{25, 75.25, 'Mark', 'Jessa'}\n"
          ]
        }
      ]
    },
    {
      "cell_type": "code",
      "source": [
        "book_set = set((\"Harry Potter\", \"Angels and Demons\", \"Atlas Shrugged\"))\n",
        "print(book_set)"
      ],
      "metadata": {
        "colab": {
          "base_uri": "https://localhost:8080/"
        },
        "id": "SRTM4jQ3KPx0",
        "outputId": "97aa491b-e5d8-4390-9c3f-c0aae4b3fce3"
      },
      "execution_count": null,
      "outputs": [
        {
          "output_type": "stream",
          "name": "stdout",
          "text": [
            "{'Angels and Demons', 'Harry Potter', 'Atlas Shrugged'}\n"
          ]
        }
      ]
    },
    {
      "cell_type": "code",
      "source": [
        "book_set = set((\"Harry Potter\", \"Angels and Demons\", \"Atlas Shrugged\"))\n",
        "print(book_set)\n",
        "print(type(book_set))"
      ],
      "metadata": {
        "colab": {
          "base_uri": "https://localhost:8080/"
        },
        "id": "7Q678b7bKUWx",
        "outputId": "38a20554-ad95-4dc7-8606-bd4bcf3e9dc1"
      },
      "execution_count": null,
      "outputs": [
        {
          "output_type": "stream",
          "name": "stdout",
          "text": [
            "{'Angels and Demons', 'Harry Potter', 'Atlas Shrugged'}\n",
            "<class 'set'>\n"
          ]
        }
      ]
    },
    {
      "cell_type": "code",
      "source": [
        "names = { \"Eric\", \"Ali\", \"John\" }\n",
        "print (names)"
      ],
      "metadata": {
        "colab": {
          "base_uri": "https://localhost:8080/"
        },
        "id": "5Vkl2dQfKflA",
        "outputId": "b225c295-6221-4a07-de20-65b5b7abf8cb"
      },
      "execution_count": null,
      "outputs": [
        {
          "output_type": "stream",
          "name": "stdout",
          "text": [
            "{'Eric', 'Ali', 'John'}\n"
          ]
        }
      ]
    },
    {
      "cell_type": "code",
      "source": [
        "skills = {'Python programming','Databases', 'Software design'}\n",
        "print (skills)"
      ],
      "metadata": {
        "colab": {
          "base_uri": "https://localhost:8080/"
        },
        "id": "AFwwx-bVKyrd",
        "outputId": "9b8ecf15-9655-44aa-c335-92ad89af9677"
      },
      "execution_count": null,
      "outputs": [
        {
          "output_type": "stream",
          "name": "stdout",
          "text": [
            "{'Python programming', 'Databases', 'Software design'}\n"
          ]
        }
      ]
    },
    {
      "cell_type": "markdown",
      "source": [
        "3) Convert one type to another set.\n"
      ],
      "metadata": {
        "id": "Yx0-M8_HK_an"
      }
    },
    {
      "cell_type": "code",
      "source": [
        "numbers = {2, 4, 6 ,8 , 10, 12}\n",
        "a = set(numbers)\n",
        "print (a)\n",
        "print (type(a))"
      ],
      "metadata": {
        "colab": {
          "base_uri": "https://localhost:8080/"
        },
        "id": "ISPbBT6wLJ9j",
        "outputId": "3ddb8760-a5c3-4604-b8a4-95b414319c54"
      },
      "execution_count": null,
      "outputs": [
        {
          "output_type": "stream",
          "name": "stdout",
          "text": [
            "{2, 4, 6, 8, 10, 12}\n",
            "<class 'set'>\n"
          ]
        }
      ]
    },
    {
      "cell_type": "code",
      "source": [
        "fruits = {\"Mango\", \"Apple\"}\n",
        "b = set(fruits)\n",
        "print (b)\n",
        "print (type(b))"
      ],
      "metadata": {
        "colab": {
          "base_uri": "https://localhost:8080/"
        },
        "id": "iQmNaA0QMAqq",
        "outputId": "f6b0bc58-d2db-488e-e9e2-990255fb716f"
      },
      "execution_count": null,
      "outputs": [
        {
          "output_type": "stream",
          "name": "stdout",
          "text": [
            "{'Mango', 'Apple'}\n",
            "<class 'set'>\n"
          ]
        }
      ]
    },
    {
      "cell_type": "code",
      "source": [
        "cars = {\"Mercedes\", \"Audi\", \"Range rover\"}\n",
        "c = set(cars)\n",
        "print (c)\n",
        "print (type(c))"
      ],
      "metadata": {
        "colab": {
          "base_uri": "https://localhost:8080/"
        },
        "id": "v5bFnRbLMPm6",
        "outputId": "0e1ab754-f403-4a3f-c719-28a156fb52cd"
      },
      "execution_count": null,
      "outputs": [
        {
          "output_type": "stream",
          "name": "stdout",
          "text": [
            "{'Mercedes', 'Audi', 'Range rover'}\n",
            "<class 'set'>\n"
          ]
        }
      ]
    },
    {
      "cell_type": "code",
      "source": [
        "name = {\"Chitra\",\"Rupali\"}\n",
        "a = set(name)\n",
        "print (a)\n",
        "print (type(a))"
      ],
      "metadata": {
        "colab": {
          "base_uri": "https://localhost:8080/"
        },
        "id": "QRXf6OCoMkq4",
        "outputId": "a9a5c431-242b-4879-aefb-f597accd9ab3"
      },
      "execution_count": null,
      "outputs": [
        {
          "output_type": "stream",
          "name": "stdout",
          "text": [
            "{'Chitra', 'Rupali'}\n",
            "<class 'set'>\n"
          ]
        }
      ]
    },
    {
      "cell_type": "code",
      "source": [
        "mixed_sets = {\"apple\", \"mango\", 456}\n",
        "z = set(mixed_sets)\n",
        "print (z)\n",
        "print (type(z))"
      ],
      "metadata": {
        "colab": {
          "base_uri": "https://localhost:8080/"
        },
        "id": "nJ90ecRRM2L-",
        "outputId": "92e78f7f-d1b8-4bf5-e1eb-f8cab093bdd4"
      },
      "execution_count": null,
      "outputs": [
        {
          "output_type": "stream",
          "name": "stdout",
          "text": [
            "{456, 'mango', 'apple'}\n",
            "<class 'set'>\n"
          ]
        }
      ]
    },
    {
      "cell_type": "markdown",
      "source": [
        "4) Add and update set items."
      ],
      "metadata": {
        "id": "n6Mr1qqEuVYb"
      }
    },
    {
      "cell_type": "code",
      "source": [
        "list1 = [1, 2, 3]\n",
        "list2 = [5, 6, 7]\n",
        "list3 = [10, 11, 12]\n",
        "set1 = set(list2)\n",
        "set2 = set(list1)\n",
        "set1.update(set2)\n",
        "print(set1)\n",
        "set1.update(list3)\n",
        "print(set1)\n"
      ],
      "metadata": {
        "colab": {
          "base_uri": "https://localhost:8080/"
        },
        "id": "8mWsvJCbueOq",
        "outputId": "3de98ce9-ba43-4dda-a030-b35b72e93be7"
      },
      "execution_count": null,
      "outputs": [
        {
          "output_type": "stream",
          "name": "stdout",
          "text": [
            "{1, 2, 3, 5, 6, 7}\n",
            "{1, 2, 3, 5, 6, 7, 10, 11, 12}\n"
          ]
        }
      ]
    },
    {
      "cell_type": "code",
      "source": [
        "fruits = {\"Apple\", \"Mango\", \"Cherry\"}\n",
        "print (fruits)\n",
        "fruits.add(\"Kiwi\")\n",
        "print (fruits)"
      ],
      "metadata": {
        "colab": {
          "base_uri": "https://localhost:8080/"
        },
        "id": "WbcZYPVwu5DQ",
        "outputId": "2190dfd4-c484-4d7d-98e3-90227c0ee29a"
      },
      "execution_count": null,
      "outputs": [
        {
          "output_type": "stream",
          "name": "stdout",
          "text": [
            "{'Mango', 'Apple', 'Cherry'}\n",
            "{'Mango', 'Apple', 'Kiwi', 'Cherry'}\n"
          ]
        }
      ]
    },
    {
      "cell_type": "code",
      "source": [
        "my_sets = {1, 2, 3, 4, 5}\n",
        "my_sets.add(6)\n",
        "print (my_sets)"
      ],
      "metadata": {
        "colab": {
          "base_uri": "https://localhost:8080/"
        },
        "id": "u1M3TJ-YvnOp",
        "outputId": "f5ac3665-d163-4aff-a258-c5e200c47ba3"
      },
      "execution_count": null,
      "outputs": [
        {
          "output_type": "stream",
          "name": "stdout",
          "text": [
            "{1, 2, 3, 4, 5, 6}\n"
          ]
        }
      ]
    },
    {
      "cell_type": "code",
      "source": [
        "list1 = [1, 2, 3, 4]\n",
        "list2 = [1, 4, 2, 3, 5]\n",
        "alphabet_set = {'a', 'b', 'c'}\n",
        "set1 = set(list2)\n",
        "set2 = set(list1)\n",
        "set1.update(set2)\n",
        "print(set1)\n",
        "set1.update(alphabet_set)\n",
        "print(set1)\n"
      ],
      "metadata": {
        "colab": {
          "base_uri": "https://localhost:8080/"
        },
        "id": "Oe2W9g-Rv5kl",
        "outputId": "48d3f494-f0eb-4811-e12f-843d30736f4f"
      },
      "execution_count": null,
      "outputs": [
        {
          "output_type": "stream",
          "name": "stdout",
          "text": [
            "{1, 2, 3, 4, 5}\n",
            "{1, 2, 3, 4, 5, 'b', 'c', 'a'}\n"
          ]
        }
      ]
    },
    {
      "cell_type": "markdown",
      "source": [
        "5) Removing an element from the set.\n"
      ],
      "metadata": {
        "id": "YR7kJYp5v--7"
      }
    },
    {
      "cell_type": "code",
      "source": [
        "thisset = {\"apple\", \"banana\", \"cherry\"}\n",
        "thisset.remove(\"banana\")\n",
        "print(thisset)\n"
      ],
      "metadata": {
        "colab": {
          "base_uri": "https://localhost:8080/"
        },
        "id": "4vYP-RTawQ7l",
        "outputId": "373dd3a7-ddd7-42ff-ad52-4f82bacb77b3"
      },
      "execution_count": null,
      "outputs": [
        {
          "output_type": "stream",
          "name": "stdout",
          "text": [
            "{'cherry', 'apple'}\n"
          ]
        }
      ]
    },
    {
      "cell_type": "code",
      "source": [
        "thisset = {\"apple\", \"banana\", \"cherry\"}\n",
        "thisset.discard(\"banana\")\n",
        "print(thisset)"
      ],
      "metadata": {
        "colab": {
          "base_uri": "https://localhost:8080/"
        },
        "id": "MpcmR9M1wfCG",
        "outputId": "d2fb4eb9-6b0a-4b6d-abd9-fe9c07d183c8"
      },
      "execution_count": null,
      "outputs": [
        {
          "output_type": "stream",
          "name": "stdout",
          "text": [
            "{'cherry', 'apple'}\n"
          ]
        }
      ]
    },
    {
      "cell_type": "code",
      "source": [
        "numbers = {10, 20, 30, 40, 50}\n",
        "numbers.remove(30)\n",
        "print(numbers)"
      ],
      "metadata": {
        "colab": {
          "base_uri": "https://localhost:8080/"
        },
        "id": "pgd3XDPPwtji",
        "outputId": "3cea846c-b27b-4dc0-b94a-bbef8bc9f2d7"
      },
      "execution_count": null,
      "outputs": [
        {
          "output_type": "stream",
          "name": "stdout",
          "text": [
            "{50, 20, 40, 10}\n"
          ]
        }
      ]
    },
    {
      "cell_type": "code",
      "source": [
        "my_set = {1, 2, 3, 4, 5}\n",
        "my_set.remove(3)\n",
        "print(my_set)"
      ],
      "metadata": {
        "colab": {
          "base_uri": "https://localhost:8080/"
        },
        "id": "trmXKS5kxCTk",
        "outputId": "1cc9d110-a4b2-4003-88d9-82e8574cc071"
      },
      "execution_count": null,
      "outputs": [
        {
          "output_type": "stream",
          "name": "stdout",
          "text": [
            "{1, 2, 4, 5}\n"
          ]
        }
      ]
    },
    {
      "cell_type": "code",
      "source": [
        "name = {\"Jack\", \"Micheal\", \"John\"}\n",
        "name.discard(\"John\")\n",
        "print(name)"
      ],
      "metadata": {
        "colab": {
          "base_uri": "https://localhost:8080/"
        },
        "id": "k1xubLPxxh68",
        "outputId": "b67cfddb-8d6e-4941-e22e-20492cc35b69"
      },
      "execution_count": null,
      "outputs": [
        {
          "output_type": "stream",
          "name": "stdout",
          "text": [
            "{'Jack', 'Micheal'}\n"
          ]
        }
      ]
    },
    {
      "cell_type": "markdown",
      "source": [
        "6) Python set operations.\n",
        "-  union: The union of two sets is the set of all the elements, without duplicates, contained in either or both of the sets."
      ],
      "metadata": {
        "id": "sKFIzOEDyIdp"
      }
    },
    {
      "cell_type": "code",
      "source": [
        "first_set = {1, 5, 7, 4, 5}\n",
        "second_set = {4, 5, 6, 7, 8}\n",
        "# Creating the union of the two sets\n",
        "new_set = first_set | second_set\n",
        "print(new_set)"
      ],
      "metadata": {
        "colab": {
          "base_uri": "https://localhost:8080/"
        },
        "id": "-mX0UZ3YBQ6N",
        "outputId": "7fc0e989-c244-40e8-f3cf-ea37cef54463"
      },
      "execution_count": 1,
      "outputs": [
        {
          "output_type": "stream",
          "name": "stdout",
          "text": [
            "{1, 4, 5, 6, 7, 8}\n"
          ]
        }
      ]
    },
    {
      "cell_type": "markdown",
      "source": [
        "*  intersection: The intersection of two sets is the set of all the elements that are common to both sets."
      ],
      "metadata": {
        "id": "3ET5SM2WBkU6"
      }
    },
    {
      "cell_type": "code",
      "source": [
        "first_set = {1, 5, 7, 4, 5}\n",
        "second_set = {4, 5, 6, 7, 8}\n",
        "# Creating the intersection of the two sets\n",
        "new_set = first_set & second_set\n",
        "print(new_set)"
      ],
      "metadata": {
        "colab": {
          "base_uri": "https://localhost:8080/"
        },
        "id": "4NI0WwK1BvLd",
        "outputId": "d215b074-96c9-46ae-f714-b45331ce3302"
      },
      "execution_count": 2,
      "outputs": [
        {
          "output_type": "stream",
          "name": "stdout",
          "text": [
            "{4, 5, 7}\n"
          ]
        }
      ]
    },
    {
      "cell_type": "markdown",
      "source": [
        "*  difference: The difference between the two sets is the set of all the elements present in the first set but not in the second."
      ],
      "metadata": {
        "id": "6KvYqV_CCBA2"
      }
    },
    {
      "cell_type": "code",
      "source": [
        "first_set = {1, 5, 7, 4, 5}\n",
        "second_set = {4, 5, 6, 7, 8}\n",
        "# Creating the difference of the two sets\n",
        "new_set = first_set - second_set\n",
        "print(new_set)"
      ],
      "metadata": {
        "colab": {
          "base_uri": "https://localhost:8080/"
        },
        "id": "Fhx_ZbjCCPEe",
        "outputId": "b33507a6-2980-41d0-cc89-8b06f589a01b"
      },
      "execution_count": 4,
      "outputs": [
        {
          "output_type": "stream",
          "name": "stdout",
          "text": [
            "{1}\n"
          ]
        }
      ]
    },
    {
      "cell_type": "markdown",
      "source": [
        "*  symmetric_difference: the symmetric difference between two sets a and b includes all elements of a and b without common elements."
      ],
      "metadata": {
        "id": "V6w_rpfyC45n"
      }
    },
    {
      "cell_type": "code",
      "source": [
        "A = {0, 2, 4, 6, 8}\n",
        "B = {1, 2, 3, 4, 5}\n",
        "print(\"Symmetric difference :\", A ^ B)"
      ],
      "metadata": {
        "colab": {
          "base_uri": "https://localhost:8080/"
        },
        "id": "M1Tnf0V2DTEE",
        "outputId": "b68b9aad-f0d0-4a13-9116-c5f25838ef3e"
      },
      "execution_count": 5,
      "outputs": [
        {
          "output_type": "stream",
          "name": "stdout",
          "text": [
            "Symmetric difference : {0, 1, 3, 5, 6, 8}\n"
          ]
        }
      ]
    },
    {
      "cell_type": "markdown",
      "source": [
        "7) Methods in sets.\n",
        "*  clear(): Removes all the elements from the list."
      ],
      "metadata": {
        "id": "Hoc-cN-ZDl_u"
      }
    },
    {
      "cell_type": "code",
      "source": [
        "x = {10, 20, 30, 40, 50}\n",
        "x.clear()\n",
        "print(x)"
      ],
      "metadata": {
        "colab": {
          "base_uri": "https://localhost:8080/"
        },
        "id": "d1_h7FzuEcNz",
        "outputId": "dac0c888-b167-442f-eaed-ae0bf96dfa05"
      },
      "execution_count": 6,
      "outputs": [
        {
          "output_type": "stream",
          "name": "stdout",
          "text": [
            "set()\n"
          ]
        }
      ]
    },
    {
      "cell_type": "markdown",
      "source": [
        "*  add(): Adds an element to the set."
      ],
      "metadata": {
        "id": "GnjWlvI6Ez6R"
      }
    },
    {
      "cell_type": "code",
      "source": [
        "fruits = {\"apple\", \"banana\", \"cherry\"}\n",
        "fruits.add(\"orange\")\n",
        "print(fruits)"
      ],
      "metadata": {
        "colab": {
          "base_uri": "https://localhost:8080/"
        },
        "id": "-J4Fykt4E3IA",
        "outputId": "ad50ab05-9853-46df-891d-306ae5f61de3"
      },
      "execution_count": 7,
      "outputs": [
        {
          "output_type": "stream",
          "name": "stdout",
          "text": [
            "{'orange', 'apple', 'banana', 'cherry'}\n"
          ]
        }
      ]
    },
    {
      "cell_type": "markdown",
      "source": [
        "*  copy(): Returns a copy of the set."
      ],
      "metadata": {
        "id": "7evR8t2iFBUo"
      }
    },
    {
      "cell_type": "code",
      "source": [
        "fruits = {\"apple\", \"banana\", \"cherry\"}\n",
        "x = fruits.copy()\n",
        "print(x)"
      ],
      "metadata": {
        "colab": {
          "base_uri": "https://localhost:8080/"
        },
        "id": "napSdrQyFMrd",
        "outputId": "ddc1dd62-aea5-4db9-cfbc-e97ad9e7b39f"
      },
      "execution_count": 8,
      "outputs": [
        {
          "output_type": "stream",
          "name": "stdout",
          "text": [
            "{'apple', 'banana', 'cherry'}\n"
          ]
        }
      ]
    },
    {
      "cell_type": "markdown",
      "source": [
        "*  difference(): Returns a set containing the difference between two or more sets."
      ],
      "metadata": {
        "id": "RqqQNLEHFWjm"
      }
    },
    {
      "cell_type": "code",
      "source": [
        "x = {\"apple\", \"banana\", \"cherry\"}\n",
        "y = {\"google\", \"microsoft\", \"apple\"}\n",
        "z = x.difference(y)\n",
        "print(z)"
      ],
      "metadata": {
        "colab": {
          "base_uri": "https://localhost:8080/"
        },
        "id": "ob8u2k0UFfTe",
        "outputId": "2c1597eb-1b5e-43f4-919f-d38f87e467ab"
      },
      "execution_count": 9,
      "outputs": [
        {
          "output_type": "stream",
          "name": "stdout",
          "text": [
            "{'banana', 'cherry'}\n"
          ]
        }
      ]
    },
    {
      "cell_type": "markdown",
      "source": [
        "*  difference_update(): Removes the items in this set that are also included in another, specified set."
      ],
      "metadata": {
        "id": "ikEboLOUFroM"
      }
    },
    {
      "cell_type": "code",
      "source": [
        "x = {\"apple\", \"banana\", \"cherry\"}\n",
        "y = {\"google\", \"microsoft\", \"apple\"}\n",
        "x.difference_update(y)\n",
        "print(x)"
      ],
      "metadata": {
        "colab": {
          "base_uri": "https://localhost:8080/"
        },
        "id": "XSf1XtQTF6wz",
        "outputId": "bc99806b-85f6-4699-8474-e533059434e2"
      },
      "execution_count": 10,
      "outputs": [
        {
          "output_type": "stream",
          "name": "stdout",
          "text": [
            "{'banana', 'cherry'}\n"
          ]
        }
      ]
    },
    {
      "cell_type": "markdown",
      "source": [
        "*  discard(): Remove the specified item."
      ],
      "metadata": {
        "id": "-zmuRdtJGGKy"
      }
    },
    {
      "cell_type": "code",
      "source": [
        "fruits = {\"apple\", \"banana\", \"cherry\"}\n",
        "fruits.discard(\"banana\")\n",
        "print(fruits)"
      ],
      "metadata": {
        "colab": {
          "base_uri": "https://localhost:8080/"
        },
        "id": "g1VR-B9FGUFi",
        "outputId": "e6d63dcf-b3f2-470d-b755-37ca8ce66d19"
      },
      "execution_count": 11,
      "outputs": [
        {
          "output_type": "stream",
          "name": "stdout",
          "text": [
            "{'apple', 'cherry'}\n"
          ]
        }
      ]
    },
    {
      "cell_type": "markdown",
      "source": [
        "* Intersection(): Returns a set, that is the intersection of two other sets."
      ],
      "metadata": {
        "id": "l-lunhzmGehI"
      }
    },
    {
      "cell_type": "code",
      "source": [
        "x = {\"apple\", \"banana\", \"cherry\"}\n",
        "y = {\"google\", \"microsoft\", \"apple\"}\n",
        "z = x.intersection(y)\n",
        "print(z)"
      ],
      "metadata": {
        "colab": {
          "base_uri": "https://localhost:8080/"
        },
        "id": "409SZOMrGrsz",
        "outputId": "73e56771-e268-4348-d256-33721e06ca3b"
      },
      "execution_count": 12,
      "outputs": [
        {
          "output_type": "stream",
          "name": "stdout",
          "text": [
            "{'apple'}\n"
          ]
        }
      ]
    },
    {
      "cell_type": "markdown",
      "source": [
        "*  intersection_update(): Removes the items in this set that are not present in other, specified set(s)."
      ],
      "metadata": {
        "id": "DaXoJxZEG0sj"
      }
    },
    {
      "cell_type": "code",
      "source": [
        "x = {\"apple\", \"banana\", \"cherry\"}\n",
        "y = {\"google\", \"microsoft\", \"apple\"}\n",
        "x.intersection_update(y)\n",
        "print(x)"
      ],
      "metadata": {
        "colab": {
          "base_uri": "https://localhost:8080/"
        },
        "id": "IaIEqUJaHCXt",
        "outputId": "bacde8fd-d84e-41e2-9cea-343fc9cfa953"
      },
      "execution_count": 13,
      "outputs": [
        {
          "output_type": "stream",
          "name": "stdout",
          "text": [
            "{'apple'}\n"
          ]
        }
      ]
    },
    {
      "cell_type": "markdown",
      "source": [
        "*  isdisjoint(): Returns whether two sets have a intersection or not."
      ],
      "metadata": {
        "id": "nq4y1tmhHKRj"
      }
    },
    {
      "cell_type": "code",
      "source": [
        "x = {\"apple\", \"banana\", \"cherry\"}\n",
        "y = {\"google\", \"microsoft\", \"facebook\"}\n",
        "z = x.isdisjoint(y)\n",
        "print(z)"
      ],
      "metadata": {
        "colab": {
          "base_uri": "https://localhost:8080/"
        },
        "id": "2xsYtOy7HVhY",
        "outputId": "e38affeb-ab35-41c0-fd32-e95b8456b988"
      },
      "execution_count": 14,
      "outputs": [
        {
          "output_type": "stream",
          "name": "stdout",
          "text": [
            "True\n"
          ]
        }
      ]
    },
    {
      "cell_type": "markdown",
      "source": [
        "*  issubset(): Returns whether another set contains this set or not."
      ],
      "metadata": {
        "id": "18xTz2e_HdgL"
      }
    },
    {
      "cell_type": "code",
      "source": [
        "x = {\"a\", \"b\", \"c\"}\n",
        "y = {\"f\", \"e\", \"d\", \"c\", \"b\", \"a\"}\n",
        "z = x.issubset(y)\n",
        "print(z)"
      ],
      "metadata": {
        "colab": {
          "base_uri": "https://localhost:8080/"
        },
        "id": "JQs5v_I7Hlk0",
        "outputId": "f8d2c777-a00e-4dd7-aea8-cca8e5415d2b"
      },
      "execution_count": 15,
      "outputs": [
        {
          "output_type": "stream",
          "name": "stdout",
          "text": [
            "True\n"
          ]
        }
      ]
    },
    {
      "cell_type": "markdown",
      "source": [
        "*  issuperset(): Returns whether this set contains another set or not."
      ],
      "metadata": {
        "id": "g-lKCDDHHuwf"
      }
    },
    {
      "cell_type": "code",
      "source": [
        "x = {\"f\", \"e\", \"d\", \"c\", \"b\", \"a\"}\n",
        "y = {\"a\", \"b\", \"c\"}\n",
        "z = x.issuperset(y)\n",
        "print(z)"
      ],
      "metadata": {
        "colab": {
          "base_uri": "https://localhost:8080/"
        },
        "id": "zJDgU8AgH925",
        "outputId": "0a76d7de-05f1-4ffa-b768-783f180f1eb1"
      },
      "execution_count": 16,
      "outputs": [
        {
          "output_type": "stream",
          "name": "stdout",
          "text": [
            "True\n"
          ]
        }
      ]
    },
    {
      "cell_type": "markdown",
      "source": [
        "*  pop(): Removes an element from the set."
      ],
      "metadata": {
        "id": "rZfyFH7nIFd8"
      }
    },
    {
      "cell_type": "code",
      "source": [
        "fruits = {\"apple\", \"banana\", \"cherry\"}\n",
        "fruits.pop()\n",
        "print(fruits)"
      ],
      "metadata": {
        "colab": {
          "base_uri": "https://localhost:8080/"
        },
        "id": "KJqXYzFcION7",
        "outputId": "25dd2667-e29b-4a23-94f7-1e06f2ea893a"
      },
      "execution_count": 17,
      "outputs": [
        {
          "output_type": "stream",
          "name": "stdout",
          "text": [
            "{'banana', 'cherry'}\n"
          ]
        }
      ]
    },
    {
      "cell_type": "markdown",
      "source": [
        "*  remove(): Removes the specified element."
      ],
      "metadata": {
        "id": "GzGQ_XjMIbOu"
      }
    },
    {
      "cell_type": "code",
      "source": [
        "fruits = {\"apple\", \"banana\", \"cherry\"}\n",
        "fruits.remove(\"banana\")\n",
        "print(fruits)"
      ],
      "metadata": {
        "colab": {
          "base_uri": "https://localhost:8080/"
        },
        "id": "kbhaqc_yIkcx",
        "outputId": "104ac91b-5ce7-4f54-87df-d22e4e4b8786"
      },
      "execution_count": 18,
      "outputs": [
        {
          "output_type": "stream",
          "name": "stdout",
          "text": [
            "{'apple', 'cherry'}\n"
          ]
        }
      ]
    },
    {
      "cell_type": "markdown",
      "source": [
        "*  symmetric_difference(): Returns a set with the symmetric differences of two sets."
      ],
      "metadata": {
        "id": "9kVILg8XIsoL"
      }
    },
    {
      "cell_type": "code",
      "source": [
        "x = {\"apple\", \"banana\", \"cherry\"}\n",
        "y = {\"google\", \"microsoft\", \"apple\"}\n",
        "z = x.symmetric_difference(y)\n",
        "print(z)"
      ],
      "metadata": {
        "colab": {
          "base_uri": "https://localhost:8080/"
        },
        "id": "dpQZleKSI2m5",
        "outputId": "1667c757-0f53-4138-9e5a-92d5f3ad56fb"
      },
      "execution_count": 19,
      "outputs": [
        {
          "output_type": "stream",
          "name": "stdout",
          "text": [
            "{'microsoft', 'cherry', 'banana', 'google'}\n"
          ]
        }
      ]
    },
    {
      "cell_type": "markdown",
      "source": [
        "*  symmetric_difference_update(): Inserts the symmetric differences from this set and another."
      ],
      "metadata": {
        "id": "HNd6hnZdJC6e"
      }
    },
    {
      "cell_type": "code",
      "source": [
        "x = {\"apple\", \"banana\", \"cherry\"}\n",
        "y = {\"google\", \"microsoft\", \"apple\"}\n",
        "x.symmetric_difference_update(y)\n",
        "print(x)"
      ],
      "metadata": {
        "colab": {
          "base_uri": "https://localhost:8080/"
        },
        "id": "FIJRrOavJPFP",
        "outputId": "fceb3872-4323-4ec6-e612-c6769a39b890"
      },
      "execution_count": 20,
      "outputs": [
        {
          "output_type": "stream",
          "name": "stdout",
          "text": [
            "{'microsoft', 'cherry', 'banana', 'google'}\n"
          ]
        }
      ]
    },
    {
      "cell_type": "markdown",
      "source": [
        "*  union(): Return a set containing the union of sets."
      ],
      "metadata": {
        "id": "Dwbq_aaiJWGA"
      }
    },
    {
      "cell_type": "code",
      "source": [
        "x = {\"apple\", \"banana\", \"cherry\"}\n",
        "y = {\"google\", \"microsoft\", \"apple\"}\n",
        "z = x.union(y)\n",
        "print(z)"
      ],
      "metadata": {
        "colab": {
          "base_uri": "https://localhost:8080/"
        },
        "id": "MFfBnR-EJf0Y",
        "outputId": "8af91458-0cc9-4db5-bee4-e465871b99de"
      },
      "execution_count": 21,
      "outputs": [
        {
          "output_type": "stream",
          "name": "stdout",
          "text": [
            "{'apple', 'banana', 'microsoft', 'cherry', 'google'}\n"
          ]
        }
      ]
    },
    {
      "cell_type": "markdown",
      "source": [
        "*  update(): Update the set with the union of this set and others."
      ],
      "metadata": {
        "id": "LOGWbyffJoga"
      }
    },
    {
      "cell_type": "code",
      "source": [
        "x = {\"apple\", \"banana\", \"cherry\"}\n",
        "y = {\"google\", \"microsoft\", \"apple\"}\n",
        "x.update(y)\n",
        "print(x)"
      ],
      "metadata": {
        "colab": {
          "base_uri": "https://localhost:8080/"
        },
        "id": "JgyMEjtGJv1q",
        "outputId": "0daed993-55f4-426f-d987-3485a91f9a60"
      },
      "execution_count": 22,
      "outputs": [
        {
          "output_type": "stream",
          "name": "stdout",
          "text": [
            "{'apple', 'banana', 'microsoft', 'cherry', 'google'}\n"
          ]
        }
      ]
    }
  ]
}