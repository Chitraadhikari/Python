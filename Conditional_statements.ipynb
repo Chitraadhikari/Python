{
  "nbformat": 4,
  "nbformat_minor": 0,
  "metadata": {
    "colab": {
      "provenance": []
    },
    "kernelspec": {
      "name": "python3",
      "display_name": "Python 3"
    },
    "language_info": {
      "name": "python"
    }
  },
  "cells": [
    {
      "cell_type": "markdown",
      "source": [
        "1) Explain conditional statements with one example.\n",
        "-  Conditional Statements are statements in Python that provide a choice for the control flow based on a condition. It means that the control flow of the Python program will be decided based on the outcome of the condition.\n",
        "1. If Conditional Statement in Python- If the simple code of block is to be performed if the condition holds then the if statement is used.\n"
      ],
      "metadata": {
        "id": "syK22rIG9U2C"
      }
    },
    {
      "cell_type": "code",
      "source": [
        "# if statement example\n",
        "if 10 > 5:\n",
        "    print(\"10 greater than 5\")\n",
        "\n",
        "print(\"Program ended\")"
      ],
      "metadata": {
        "colab": {
          "base_uri": "https://localhost:8080/"
        },
        "id": "Z4raMJGu-hZC",
        "outputId": "3a068633-e1dd-46f2-b1eb-7d40808ccb8e"
      },
      "execution_count": null,
      "outputs": [
        {
          "output_type": "stream",
          "name": "stdout",
          "text": [
            "10 greater than 5\n",
            "Program ended\n"
          ]
        }
      ]
    },
    {
      "cell_type": "markdown",
      "source": [
        "2. If else Conditional Statements in Python- In a conditional if Statement the additional block of code is merged as an else statement which is performed when if condition is false."
      ],
      "metadata": {
        "id": "M_TgtgqR-w_N"
      }
    },
    {
      "cell_type": "code",
      "source": [
        "# if..else statement example\n",
        "x = 3\n",
        "if x == 4:\n",
        "    print(\"Yes\")\n",
        "else:\n",
        "    print(\"No\")"
      ],
      "metadata": {
        "colab": {
          "base_uri": "https://localhost:8080/"
        },
        "id": "eNm-XXPW_L-V",
        "outputId": "87e34bae-a68e-4f83-b413-a802ee7ca7c7"
      },
      "execution_count": null,
      "outputs": [
        {
          "output_type": "stream",
          "name": "stdout",
          "text": [
            "No\n"
          ]
        }
      ]
    },
    {
      "cell_type": "markdown",
      "source": [
        "3. Elif conditional statement in python- if we need to make a choice between more than two alternatives, we use the if...elif...else statement."
      ],
      "metadata": {
        "id": "HAJELCfZ_PgU"
      }
    },
    {
      "cell_type": "code",
      "source": [
        "# if-elif statement example\n",
        "letter = \"A\"\n",
        "if letter == \"B\":\n",
        "    print(\"letter is B\")\n",
        "elif letter == \"C\":\n",
        "    print(\"letter is C\")\n",
        "elif letter == \"A\":\n",
        "    print(\"letter is A\")\n",
        "else:\n",
        "    print(\"letter isn't A, B or C\")"
      ],
      "metadata": {
        "colab": {
          "base_uri": "https://localhost:8080/"
        },
        "id": "iFzpR3LND0HD",
        "outputId": "14531bdf-76b8-4f1e-e28b-22552598bbca"
      },
      "execution_count": null,
      "outputs": [
        {
          "output_type": "stream",
          "name": "stdout",
          "text": [
            "letter is A\n"
          ]
        }
      ]
    },
    {
      "cell_type": "markdown",
      "source": [
        "Write a python program to check given year is a leap year or not."
      ],
      "metadata": {
        "id": "VlYFvp1hmTiO"
      }
    },
    {
      "cell_type": "code",
      "source": [
        "year = int (input(\"enter year\"))\n",
        "\n",
        "if (year % 4 ==0):\n",
        "  print (\"yes it is leap year\")\n",
        "else:\n",
        "  print (\" not a leap year\")"
      ],
      "metadata": {
        "colab": {
          "base_uri": "https://localhost:8080/"
        },
        "id": "TnwewAhfmju3",
        "outputId": "e72da19a-9d2f-4a89-9170-40873df7b6fb"
      },
      "execution_count": null,
      "outputs": [
        {
          "output_type": "stream",
          "name": "stdout",
          "text": [
            "enter year2024\n",
            "yes it is leap year\n"
          ]
        }
      ]
    },
    {
      "cell_type": "markdown",
      "source": [
        "Write a python program to find a given number is even or odd."
      ],
      "metadata": {
        "id": "hVZMyCbApmWm"
      }
    },
    {
      "cell_type": "code",
      "source": [
        "num = int(input(\"Enter a number: \"))\n",
        "if (num % 2) == 0:\n",
        "  print (\"0 is even\")\n",
        "else:\n",
        "  print (\"0 is odd\")"
      ],
      "metadata": {
        "colab": {
          "base_uri": "https://localhost:8080/"
        },
        "id": "DtIFJpU2pvTJ",
        "outputId": "e2163da6-89ef-45ba-bc8c-ca24b4f0b666"
      },
      "execution_count": null,
      "outputs": [
        {
          "output_type": "stream",
          "name": "stdout",
          "text": [
            "Enter a number: 42\n",
            "0 is even\n"
          ]
        }
      ]
    },
    {
      "cell_type": "markdown",
      "source": [
        "Write a python program to check if a list is empty or not."
      ],
      "metadata": {
        "id": "1P5r4Iz1q51g"
      }
    },
    {
      "cell_type": "code",
      "source": [
        "my_list = []\n",
        "\n",
        "if not my_list:\n",
        "  print (\"list is empty\")\n",
        "else:\n",
        "  print (\"list is not empty\")"
      ],
      "metadata": {
        "colab": {
          "base_uri": "https://localhost:8080/"
        },
        "id": "m1RizFfPrELl",
        "outputId": "01f0ef16-abe7-417b-ed38-b670dc212794"
      },
      "execution_count": null,
      "outputs": [
        {
          "output_type": "stream",
          "name": "stdout",
          "text": [
            "list is empty\n"
          ]
        }
      ]
    },
    {
      "cell_type": "markdown",
      "source": [
        "Write a python code to calculate grades of students."
      ],
      "metadata": {
        "id": "bkEDmFL1epPt"
      }
    },
    {
      "cell_type": "code",
      "source": [
        "marks = int(input(\"enter your marks: \"))\n",
        "\n",
        "if marks >= 90:\n",
        "   print (\"A\")\n",
        "elif marks >= 80:\n",
        "   print (\"B\")\n",
        "elif marks >= 70:\n",
        "   print (\"C\")\n",
        "elif marks >= 60:\n",
        "   print (\"D\")\n",
        "elif marks >= 50:\n",
        "   print (\"E\")\n",
        "else:\n",
        "   print (\"F\")"
      ],
      "metadata": {
        "colab": {
          "base_uri": "https://localhost:8080/"
        },
        "id": "vu1TvZ_HfG6a",
        "outputId": "8e84ce3f-6804-45ca-db78-66f24a9c148b"
      },
      "execution_count": null,
      "outputs": [
        {
          "output_type": "stream",
          "name": "stdout",
          "text": [
            "enter your marks: 75\n",
            "C\n"
          ]
        }
      ]
    },
    {
      "cell_type": "markdown",
      "source": [
        "Check whether given word is a palindrome or not."
      ],
      "metadata": {
        "id": "VPgCUD6agX0N"
      }
    },
    {
      "cell_type": "code",
      "source": [
        "word = input(\"Enter your word\")\n",
        "\n",
        "if word == word [::-5]:\n",
        "  print (\"The word is palindrome\")\n",
        "else:\n",
        "  print (\"The word is not a palindrome\")"
      ],
      "metadata": {
        "colab": {
          "base_uri": "https://localhost:8080/"
        },
        "id": "xTge_8BxghZp",
        "outputId": "1797b1e0-d9ec-495f-dcbb-e8986404d573"
      },
      "execution_count": null,
      "outputs": [
        {
          "output_type": "stream",
          "name": "stdout",
          "text": [
            "Enter your word S\n",
            "The word is not a palindrome\n"
          ]
        }
      ]
    },
    {
      "cell_type": "markdown",
      "source": [
        "Write a python program to find the smallest among the three numbers."
      ],
      "metadata": {
        "id": "Y0oxWTPoiAKt"
      }
    },
    {
      "cell_type": "code",
      "source": [
        "#the smallest of three elements\n",
        "\n",
        "a = 10\n",
        "b = 20\n",
        "c = 30\n",
        "\n",
        "if (a < b and a < c):\n",
        "   print (\"a is the smallest\")\n",
        "if (b > a and b < c):\n",
        "   print (\"b is the smallest\")\n",
        "else:\n",
        "   print (\"c is smallest\")\n"
      ],
      "metadata": {
        "colab": {
          "base_uri": "https://localhost:8080/"
        },
        "id": "IxYFaxbxiJhp",
        "outputId": "a6dba380-279a-4a30-d890-28eec51704e4"
      },
      "execution_count": null,
      "outputs": [
        {
          "output_type": "stream",
          "name": "stdout",
          "text": [
            "a is the smallest\n",
            "b is the smallest\n"
          ]
        }
      ]
    },
    {
      "cell_type": "markdown",
      "source": [
        "Find the second largest number in a list."
      ],
      "metadata": {
        "id": "TrZ1StRCjB1h"
      }
    },
    {
      "cell_type": "code",
      "source": [
        "\n",
        "list = [10, 20, 30, 40, 50]\n",
        "list.sort()\n",
        "print (list[-2])\n"
      ],
      "metadata": {
        "colab": {
          "base_uri": "https://localhost:8080/"
        },
        "id": "7hRhu0WblClY",
        "outputId": "2bab8b7d-b6eb-4854-e369-5e68443ad512"
      },
      "execution_count": null,
      "outputs": [
        {
          "output_type": "stream",
          "name": "stdout",
          "text": [
            "40\n"
          ]
        }
      ]
    },
    {
      "cell_type": "markdown",
      "source": [
        "Calculate BMI and categorize it."
      ],
      "metadata": {
        "id": "DjX87kfyoGbb"
      }
    },
    {
      "cell_type": "code",
      "source": [
        "height = int(input(\"enter your height in centimeters: \"))\n",
        "weight = int(input(\"enter your weight in kilograms: \"))\n",
        "\n",
        "#calculate bmi\n",
        "bmi = weight / height**2\n",
        "\n",
        "#categorize bmi\n",
        "if bmi < 25:\n",
        "  print (\"underweight\")\n",
        "elif 25 <= bmi < 45:\n",
        "  print (\"normalweight\")\n",
        "elif 45 <= bmi < 75:\n",
        "  print (\"overweight\")\n",
        "else:\n",
        "  print (\"obesity\")"
      ],
      "metadata": {
        "colab": {
          "base_uri": "https://localhost:8080/"
        },
        "id": "VxtWKlLaoO3H",
        "outputId": "aa2ecaa3-d82b-4c57-f5e2-59d52f704af4"
      },
      "execution_count": null,
      "outputs": [
        {
          "output_type": "stream",
          "name": "stdout",
          "text": [
            "enter your height in centimeters: 152\n",
            "enter your weight in kilograms: 44\n",
            "underweight\n"
          ]
        }
      ]
    },
    {
      "cell_type": "markdown",
      "source": [
        "Write python program to check vote eligibilty."
      ],
      "metadata": {
        "id": "v3QauHSRujOA"
      }
    },
    {
      "cell_type": "code",
      "source": [
        "age = int(input(\"Enter your age: \"))\n",
        "\n",
        "if age >= 18:\n",
        "  print (\"you are eligible to vote\")\n",
        "else:\n",
        "  print (\"you are not eligible to vote\")"
      ],
      "metadata": {
        "colab": {
          "base_uri": "https://localhost:8080/"
        },
        "id": "NJGdiU21usGW",
        "outputId": "6e903c60-6664-4109-ab1d-8d0c4ab8d1d9"
      },
      "execution_count": null,
      "outputs": [
        {
          "output_type": "stream",
          "name": "stdout",
          "text": [
            "Enter your age: 22\n",
            "you are eligible to vote\n"
          ]
        }
      ]
    },
    {
      "cell_type": "markdown",
      "source": [
        "Write pyton program to find the person's age belongs to which type of group."
      ],
      "metadata": {
        "id": "4yNLmV9LwhS3"
      }
    },
    {
      "cell_type": "code",
      "source": [
        "age_group = int(input(\"Enter your age: \"))\n",
        "\n",
        "if age_group <= 22:\n",
        "  print (\"Belongs to school group\")\n",
        "elif age_group >= 22 and age_group <= 50:\n",
        "  print (\"Belongs to work group\")\n",
        "elif age_group >= 50:\n",
        "  print (\"Belongs to retire group\")\n",
        "else:\n",
        "  print (senior)"
      ],
      "metadata": {
        "colab": {
          "base_uri": "https://localhost:8080/"
        },
        "id": "xi3LKQGqwzMZ",
        "outputId": "2ef074c7-cf1f-4228-ae2e-4cf5e9e1c862"
      },
      "execution_count": null,
      "outputs": [
        {
          "output_type": "stream",
          "name": "stdout",
          "text": [
            "Enter your age: 35\n",
            "Belongs to work group\n"
          ]
        }
      ]
    }
  ]
}