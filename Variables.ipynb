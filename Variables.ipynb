{
  "nbformat": 4,
  "nbformat_minor": 0,
  "metadata": {
    "colab": {
      "provenance": []
    },
    "kernelspec": {
      "name": "python3",
      "display_name": "Python 3"
    },
    "language_info": {
      "name": "python"
    }
  },
  "cells": [
    {
      "cell_type": "markdown",
      "source": [
        "1) Explain about variables?\n",
        "-  * Python Variable is containers that store values. Python is not “statically typed”.\n",
        "   * We do not need to declare variables before using them or declare their type.\n",
        "   * A variable is created the moment we first assign a value to it.\n",
        "   *  A Python variable is a name given to a memory location. It is the basic unit of storage in a program.\n",
        "   * Python has no command for declaring a variable.\n",
        "\n",
        "   *  A variable is created the moment you first assign a value to it."
      ],
      "metadata": {
        "id": "yblBWbl_OLd5"
      }
    },
    {
      "cell_type": "markdown",
      "source": [
        "2) Rules of variables.\n",
        "-  * A Python variable name must start with a letter or the underscore character.\n",
        "   *  A Python variable name cannot start with a number.\n",
        "   *  A Python variable name can only contain alpha-numeric characters and underscores (A-z, 0-9, and _ ).\n",
        "   *  Variable in Python names are case-sensitive (name, Name, and NAME are three different variables).\n",
        "   *  The reserved words(keywords) in Python cannot be used to name the variable in Python."
      ],
      "metadata": {
        "id": "IiJPeLLxQd1-"
      }
    },
    {
      "cell_type": "markdown",
      "source": [
        "3) Types of Variables.\n",
        "-  There are two main ways to handle variables: single variables and multiple variables.\n",
        "   * Single Variables- A single variable in Python is a container that holds a single value. This value can be of any data type, such as an integer, float, string, or even a complex object. For example,"
      ],
      "metadata": {
        "id": "0DrNAFkeyKx6"
      }
    },
    {
      "cell_type": "code",
      "source": [
        "# Assigning a single value to a variable\n",
        "x = 42\n",
        "print(x)  # Output: 42\n",
        "\n",
        "# Another example with a string\n",
        "name = \"Alice\"\n",
        "print(name)  # Output: Alice\n"
      ],
      "metadata": {
        "colab": {
          "base_uri": "https://localhost:8080/"
        },
        "id": "2KsMZtVIzWXx",
        "outputId": "b5f59bad-4e00-49ce-b0bf-52192afede97"
      },
      "execution_count": null,
      "outputs": [
        {
          "output_type": "stream",
          "name": "stdout",
          "text": [
            "42\n",
            "Alice\n"
          ]
        }
      ]
    },
    {
      "cell_type": "markdown",
      "source": [
        "*  Multiple Variables-Python allows you to work with multiple variables simultaneously. This can be done in several ways, such as multiple assignment, unpacking, and using data structures like lists or tuples.For example,"
      ],
      "metadata": {
        "id": "PcgDXFsvzl12"
      }
    },
    {
      "cell_type": "code",
      "source": [
        "# Assigning values to multiple variables\n",
        "a, b, c = 1, 2, \"hello\"\n",
        "print(a, b, c)  # Output: 1 2 hello\n"
      ],
      "metadata": {
        "colab": {
          "base_uri": "https://localhost:8080/"
        },
        "id": "yljsvopt0IAg",
        "outputId": "5be791e2-ff82-41e5-a0ec-c1ff390cbf3c"
      },
      "execution_count": null,
      "outputs": [
        {
          "output_type": "stream",
          "name": "stdout",
          "text": [
            "1 2 hello\n"
          ]
        }
      ]
    },
    {
      "cell_type": "markdown",
      "source": [
        "4) 10 examples of each & every types.\n",
        "-  Single variable-\n"
      ],
      "metadata": {
        "id": "QnDt7ijE1OYX"
      }
    },
    {
      "cell_type": "code",
      "source": [
        "x = 10 # number of apples"
      ],
      "metadata": {
        "id": "QBhkPnXaDGS0"
      },
      "execution_count": null,
      "outputs": []
    },
    {
      "cell_type": "code",
      "source": [
        "temperature = 25.5 # temperature in degree  celsius"
      ],
      "metadata": {
        "id": "IqYOVWphDcqW"
      },
      "execution_count": null,
      "outputs": []
    },
    {
      "cell_type": "code",
      "source": [
        "height = 100 # height of a building in meters"
      ],
      "metadata": {
        "id": "rHAHIKLQD7np"
      },
      "execution_count": null,
      "outputs": []
    },
    {
      "cell_type": "code",
      "source": [
        "age = 30 # age of a person"
      ],
      "metadata": {
        "id": "j_gQhQdgENL3"
      },
      "execution_count": null,
      "outputs": []
    },
    {
      "cell_type": "code",
      "source": [
        "length = 50.0 # length of a rope in meters"
      ],
      "metadata": {
        "id": "g6TeGp6nEWP0"
      },
      "execution_count": null,
      "outputs": []
    },
    {
      "cell_type": "code",
      "source": [
        "speed = 80 # speed of a car in meters"
      ],
      "metadata": {
        "id": "FuFFhiNmEg66"
      },
      "execution_count": null,
      "outputs": []
    },
    {
      "cell_type": "code",
      "source": [
        "balance = 1500.75 # amount  of money in a bank account"
      ],
      "metadata": {
        "id": "HYecNT3wEukE"
      },
      "execution_count": null,
      "outputs": []
    },
    {
      "cell_type": "code",
      "source": [
        "time_taken = 3.5 # time taken for a task in hours"
      ],
      "metadata": {
        "id": "HRiqffMHFOO-"
      },
      "execution_count": null,
      "outputs": []
    },
    {
      "cell_type": "code",
      "source": [
        "mass = 70 # mass of an object in kilograms"
      ],
      "metadata": {
        "id": "4IAQrN1eGkFE"
      },
      "execution_count": null,
      "outputs": []
    },
    {
      "cell_type": "code",
      "source": [
        "price = 20.99 # price of a product in dollars"
      ],
      "metadata": {
        "id": "39QcJpP_Gtsc"
      },
      "execution_count": null,
      "outputs": []
    },
    {
      "cell_type": "markdown",
      "source": [
        "Multi*multi variables-"
      ],
      "metadata": {
        "id": "d_dYHg2NImAT"
      }
    },
    {
      "cell_type": "code",
      "source": [
        "students = {\n",
        "    \"Alice\": [\"Math\", \"Science\"],\n",
        "    \"Bob\": [\"Math\", \"History\"],\n",
        "    \"Charlie\": [\"Science\", \"History\"]\n",
        "}\n"
      ],
      "metadata": {
        "id": "2YHEVpvoIuFP"
      },
      "execution_count": null,
      "outputs": []
    },
    {
      "cell_type": "code",
      "source": [
        "products = {\n",
        "    \"Laptop\": [\"Electronics\", \"Computers\"],\n",
        "    \"Chair\": [\"Furniture\", \"Office\"],\n",
        "    \"Desk\": [\"Furniture\", \"Office\", \"Home\"]\n",
        "}\n"
      ],
      "metadata": {
        "id": "_AaXwSI8I1r_"
      },
      "execution_count": null,
      "outputs": []
    },
    {
      "cell_type": "code",
      "source": [
        "authors = {\n",
        "    \"Author1\": [\"Book1\", \"Book2\"],\n",
        "    \"Author2\": [\"Book2\", \"Book3\"],\n",
        "    \"Author3\": [\"Book1\"]\n",
        "}\n"
      ],
      "metadata": {
        "id": "azB8B0XbI5kq"
      },
      "execution_count": null,
      "outputs": []
    },
    {
      "cell_type": "code",
      "source": [
        "movies = {\n",
        "    \"Movie1\": [\"Actor1\", \"Actor2\"],\n",
        "    \"Movie2\": [\"Actor1\", \"Actor3\"],\n",
        "    \"Movie3\": [\"Actor2\", \"Actor3\"]\n",
        "}\n"
      ],
      "metadata": {
        "id": "TBDLrA5xJFil"
      },
      "execution_count": null,
      "outputs": []
    },
    {
      "cell_type": "code",
      "source": [
        "projects = {\n",
        "    \"ProjectA\": [\"Employee1\", \"Employee2\"],\n",
        "    \"ProjectB\": [\"Employee2\", \"Employee3\"],\n",
        "    \"ProjectC\": [\"Employee1\", \"Employee3\"]\n",
        "}\n"
      ],
      "metadata": {
        "id": "1ZDKGRVtJIe3"
      },
      "execution_count": null,
      "outputs": []
    },
    {
      "cell_type": "markdown",
      "source": [
        "Multi*one variables-"
      ],
      "metadata": {
        "id": "BvQFBO-LJPGV"
      }
    },
    {
      "cell_type": "code",
      "source": [
        "# Example: Students enrolled in courses\n",
        "courses = {\n",
        "    'Math': ['Alice', 'Bob', 'Charlie'],\n",
        "    'Science': ['Alice', 'David'],\n",
        "    'History': ['Bob', 'Eve']\n",
        "}\n"
      ],
      "metadata": {
        "id": "qR8ycFM4Jgil"
      },
      "execution_count": null,
      "outputs": []
    },
    {
      "cell_type": "code",
      "source": [
        "from collections import defaultdict\n",
        "\n",
        "# Example: Authors and their books\n",
        "author_books = defaultdict(list)\n",
        "author_books['George Orwell'].append('1984')\n",
        "author_books['George Orwell'].append('Animal Farm')\n",
        "author_books['J.K. Rowling'].append('Harry Potter and the Philosopher\\'s Stone')\n"
      ],
      "metadata": {
        "id": "7ZI28pnVJ2uC"
      },
      "execution_count": null,
      "outputs": []
    },
    {
      "cell_type": "code",
      "source": [
        "import pandas as pd\n",
        "\n",
        "# Example: Employees in departments\n",
        "data = {\n",
        "    'Department': ['HR', 'HR', 'IT', 'IT', 'IT'],\n",
        "    'Employee': ['Alice', 'Bob', 'Charlie', 'David', 'Eve']\n",
        "}\n",
        "df = pd.DataFrame(data)\n"
      ],
      "metadata": {
        "id": "Zn7xZV9jJ992"
      },
      "execution_count": null,
      "outputs": []
    },
    {
      "cell_type": "code",
      "source": [
        "# Example: Cities where each country has cities listed\n",
        "country_cities = {\n",
        "    'USA': {'New York', 'Los Angeles', 'Chicago'},\n",
        "    'Canada': {'Toronto', 'Vancouver'},\n",
        "    'UK': {'London', 'Manchester', 'London'}  # 'London' is not duplicated\n",
        "}\n"
      ],
      "metadata": {
        "id": "EvOJ0vzXKNAl"
      },
      "execution_count": null,
      "outputs": []
    },
    {
      "cell_type": "code",
      "source": [
        "class Student:\n",
        "    def __init__(self, name):\n",
        "        self.name = name\n",
        "        self.courses = []\n",
        "\n",
        "class Course:\n",
        "    def __init__(self, title):\n",
        "        self.title = title\n",
        "        self.students = []\n",
        "\n",
        "# Example: Creating instances\n",
        "math = Course('Math')\n",
        "alice = Student('Alice')\n",
        "bob = Student('Bob')\n",
        "\n",
        "# Enrolling students\n",
        "math.students.append(alice)\n",
        "math.students.append(bob)\n",
        "alice.courses.append(math)\n",
        "bob.courses.append(math)\n"
      ],
      "metadata": {
        "id": "o98_iYBGKSHd"
      },
      "execution_count": null,
      "outputs": []
    }
  ]
}