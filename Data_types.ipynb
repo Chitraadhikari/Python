{
  "nbformat": 4,
  "nbformat_minor": 0,
  "metadata": {
    "colab": {
      "provenance": []
    },
    "kernelspec": {
      "name": "python3",
      "display_name": "Python 3"
    },
    "language_info": {
      "name": "python"
    }
  },
  "cells": [
    {
      "cell_type": "markdown",
      "source": [
        "1) Explain about data types?\n",
        "-  Data types are the building blocks of Python programming, defining how data is stored and manipulated.\n",
        "* Python has several built-in data types, such as numbers, strings, lists, tuples, dictionaries, and more.\n",
        "* Numbers can be integers, floats, or complex, representing whole numbers, decimals, or imaginary numbers.\n",
        "* Strings are sequences of characters enclosed in quotes, used for text manipulation and formatting.\n",
        "* Lists and tuples are ordered collections of items, separated by commas and enclosed in brackets or parentheses.\n",
        "* Dictionaries are unordered collections of key-value pairs, enclosed in curly braces and accessed by keys."
      ],
      "metadata": {
        "id": "x6HFkck4xiLf"
      }
    },
    {
      "cell_type": "markdown",
      "source": [
        "2) Explain about integers with examples?\n",
        "-  Python int is the whole number, including negative numbers but not fractions. In Python, there is no limit to how long an integer value can be."
      ],
      "metadata": {
        "id": "KOO_RQO7y_c0"
      }
    },
    {
      "cell_type": "code",
      "source": [
        "num = -8\n",
        "\n",
        "# print the data type\n",
        "print(type(num))\n"
      ],
      "metadata": {
        "colab": {
          "base_uri": "https://localhost:8080/"
        },
        "id": "9JcYPPBAzttZ",
        "outputId": "1e3c771a-cefa-407d-b02e-0564bf19e766"
      },
      "execution_count": null,
      "outputs": [
        {
          "output_type": "stream",
          "name": "stdout",
          "text": [
            "<class 'int'>\n"
          ]
        }
      ]
    },
    {
      "cell_type": "code",
      "source": [
        "a = 5\n",
        "b = 6\n",
        "\n",
        "# Addition\n",
        "c = a + b\n",
        "print(\"Addition:\",c)\n",
        "\n",
        "d = 9\n",
        "e = 6\n",
        "\n",
        "# Subtraction\n",
        "f = d - e\n",
        "print(\"Subtraction:\",f)\n",
        "\n",
        "g = 8\n",
        "h = 2\n",
        "\n",
        "# Division\n",
        "i = g // h\n",
        "print(\"Division:\",i)\n",
        "\n",
        "j = 3\n",
        "k = 5\n",
        "\n",
        "# Multiplication\n",
        "l = j * k\n",
        "print(\"Multiplication:\",l)\n",
        "\n",
        "m = 25\n",
        "n = 5\n",
        "\n",
        "# Modulus\n",
        "o = m % n\n",
        "\n",
        "print(\"Modulus:\",o)\n",
        "\n",
        "p = 6\n",
        "q = 2\n",
        "\n",
        "# Exponent\n",
        "r = p ** q\n",
        "print(\"Exponent:\",r)\n"
      ],
      "metadata": {
        "colab": {
          "base_uri": "https://localhost:8080/"
        },
        "id": "2Afisrql0ANE",
        "outputId": "c6e6a671-3b99-43b3-be3d-9600253c73cf"
      },
      "execution_count": null,
      "outputs": [
        {
          "output_type": "stream",
          "name": "stdout",
          "text": [
            "Addition: 11\n",
            "Subtraction: 3\n",
            "Division: 4\n",
            "Multiplication: 15\n",
            "Modulus: 0\n",
            "Exponent: 36\n"
          ]
        }
      ]
    },
    {
      "cell_type": "code",
      "source": [
        "b = 0b11011000 # binary\n",
        "print(b)\n",
        "\n",
        "o = 0o12 # octal\n",
        "print(o)\n",
        "\n",
        "h = 0x12 # hexadecimal\n",
        "print(h)"
      ],
      "metadata": {
        "colab": {
          "base_uri": "https://localhost:8080/"
        },
        "id": "yra5yKPe3P-k",
        "outputId": "f35834aa-5754-405d-e326-f36a4427fef2"
      },
      "execution_count": null,
      "outputs": [
        {
          "output_type": "stream",
          "name": "stdout",
          "text": [
            "216\n",
            "10\n",
            "18\n"
          ]
        }
      ]
    },
    {
      "cell_type": "markdown",
      "source": [
        "3) Explain about float with examples?\n",
        "-  In Python, the float type represents floating-point numbers, which are numbers that can contain a fractional part.\n",
        "* The float function in Python is used to convert a number or a string into a floating-point number."
      ],
      "metadata": {
        "id": "CBdcE9bU0Hui"
      }
    },
    {
      "cell_type": "code",
      "source": [
        "# convert integer value to float\n",
        "num = float(10)\n",
        "print(num)\n"
      ],
      "metadata": {
        "colab": {
          "base_uri": "https://localhost:8080/"
        },
        "id": "udCP4XwR1D2-",
        "outputId": "4c5ee985-1851-4d82-c4a8-e1f107dbd745"
      },
      "execution_count": null,
      "outputs": [
        {
          "output_type": "stream",
          "name": "stdout",
          "text": [
            "10.0\n"
          ]
        }
      ]
    },
    {
      "cell_type": "code",
      "source": [
        "# python code to convert int\n",
        "# float\n",
        "number = 90\n",
        "result = float(number)\n",
        "\n",
        "print(result)\n"
      ],
      "metadata": {
        "colab": {
          "base_uri": "https://localhost:8080/"
        },
        "id": "HEfWJGH51HqF",
        "outputId": "18a4107d-7a56-483b-8444-1ecdd202ea18"
      },
      "execution_count": null,
      "outputs": [
        {
          "output_type": "stream",
          "name": "stdout",
          "text": [
            "90.0\n"
          ]
        }
      ]
    },
    {
      "cell_type": "code",
      "source": [
        "print(float(21.89))"
      ],
      "metadata": {
        "colab": {
          "base_uri": "https://localhost:8080/"
        },
        "id": "sI52GKuM3wor",
        "outputId": "3abda076-31f9-4115-ed10-2be7e01a6fe1"
      },
      "execution_count": null,
      "outputs": [
        {
          "output_type": "stream",
          "name": "stdout",
          "text": [
            "21.89\n"
          ]
        }
      ]
    },
    {
      "cell_type": "code",
      "source": [
        "print(float(8))"
      ],
      "metadata": {
        "colab": {
          "base_uri": "https://localhost:8080/"
        },
        "id": "PA3ajtw14RY8",
        "outputId": "b71b7e90-6869-49d8-c4b5-6a771276369c"
      },
      "execution_count": null,
      "outputs": [
        {
          "output_type": "stream",
          "name": "stdout",
          "text": [
            "8.0\n"
          ]
        }
      ]
    },
    {
      "cell_type": "markdown",
      "source": [
        "4) Explain about complex with examples?\n",
        "-  Python represents complex numbers using a real part and an imaginary part, with the imaginary part followed by a j."
      ],
      "metadata": {
        "id": "Uu0hrafQ1gCQ"
      }
    },
    {
      "cell_type": "code",
      "source": [
        "import cmath\n",
        "z = 1 + 1j\n",
        "z_polar = cmath.polar(z)\n",
        "print(z_polar)"
      ],
      "metadata": {
        "colab": {
          "base_uri": "https://localhost:8080/"
        },
        "id": "cSV8hTkf4aNS",
        "outputId": "472bced7-87d1-45a8-c33f-c76f26f3a3a4"
      },
      "execution_count": null,
      "outputs": [
        {
          "output_type": "stream",
          "name": "stdout",
          "text": [
            "(1.4142135623730951, 0.7853981633974483)\n"
          ]
        }
      ]
    },
    {
      "cell_type": "code",
      "source": [
        "import math\n",
        "r = round(z_polar[0], 2)\n",
        "theta = round(z_polar[1], 2)\n",
        "theta_deg = round(math.degrees(theta), 2)\n",
        "print(r, theta, theta_deg)"
      ],
      "metadata": {
        "colab": {
          "base_uri": "https://localhost:8080/"
        },
        "id": "XGQxOKMA5Q7A",
        "outputId": "9bc2cb62-6276-4565-9f0c-78df0fc9fcb7"
      },
      "execution_count": null,
      "outputs": [
        {
          "output_type": "stream",
          "name": "stdout",
          "text": [
            "1.41 0.79 45.26\n"
          ]
        }
      ]
    },
    {
      "cell_type": "code",
      "source": [
        "z_simplified = cmath.rect(r, theta)\n",
        "print(z_simplified)"
      ],
      "metadata": {
        "colab": {
          "base_uri": "https://localhost:8080/"
        },
        "id": "Zqsq7Zhh5VkY",
        "outputId": "bd2233a0-bdb5-41b9-e14b-ad952e4c5fcc"
      },
      "execution_count": null,
      "outputs": [
        {
          "output_type": "stream",
          "name": "stdout",
          "text": [
            "(0.9924218950696528+1.001598114108827j)\n"
          ]
        }
      ]
    }
  ]
}