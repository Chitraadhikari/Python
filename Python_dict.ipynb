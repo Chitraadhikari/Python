{
  "nbformat": 4,
  "nbformat_minor": 0,
  "metadata": {
    "colab": {
      "provenance": []
    },
    "kernelspec": {
      "name": "python3",
      "display_name": "Python 3"
    },
    "language_info": {
      "name": "python"
    }
  },
  "cells": [
    {
      "cell_type": "markdown",
      "source": [
        "1) Define about dictionary.\n",
        "-  A Python dictionary is a data structure that stores the value in key: value pairs.\n",
        "*  Python dictionaries are essential for efficient data mapping and manipulation in programming.\n",
        "*  The keys in a dictionary must be immutable, which means they cannot be changed after they are created.\n",
        "*  This is why types like strings, numbers, and tuples can be used as dictionary keys, while lists and other dictionaries cannot."
      ],
      "metadata": {
        "id": "n_teyLzZW7ye"
      }
    },
    {
      "cell_type": "markdown",
      "source": [
        "2) Create 10 examples using ' ' and \" \".\n"
      ],
      "metadata": {
        "id": "FS1eoz-iXuV-"
      }
    },
    {
      "cell_type": "code",
      "source": [
        "my_dict = {'name':'Chitra', 'age':22, 'city':'Maharashtra'}\n",
        "print (my_dict)"
      ],
      "metadata": {
        "colab": {
          "base_uri": "https://localhost:8080/"
        },
        "id": "2sglH8EdY6zF",
        "outputId": "caf222bb-2505-47b8-85e8-c165dcb8d569"
      },
      "execution_count": null,
      "outputs": [
        {
          "output_type": "stream",
          "name": "stdout",
          "text": [
            "{'name': 'Chitra', 'age': 22, 'city': 'Maharashtra'}\n"
          ]
        }
      ]
    },
    {
      "cell_type": "code",
      "source": [
        "my_dict = {\"name\": \"Chitra\", \"age\": 22, \"city\": \"Maharashtra\"}\n",
        "print (my_dict)"
      ],
      "metadata": {
        "colab": {
          "base_uri": "https://localhost:8080/"
        },
        "id": "8_KNQ-PJZ6EG",
        "outputId": "bb1a3f77-aec5-4f75-f232-7e68f615481c"
      },
      "execution_count": null,
      "outputs": [
        {
          "output_type": "stream",
          "name": "stdout",
          "text": [
            "{'name': 'Chitra', 'age': 22, 'city': 'Maharashtra'}\n"
          ]
        }
      ]
    },
    {
      "cell_type": "code",
      "source": [
        "country_capitals = {\"Germany\": \"Berlin\", \"Canada\": \"Ottawa\", \"England\": \"London\"}\n",
        "print (country_capitals)\n"
      ],
      "metadata": {
        "colab": {
          "base_uri": "https://localhost:8080/"
        },
        "id": "p92NHJQoabCO",
        "outputId": "a5e07397-d78f-4105-ff35-0ce7f0629736"
      },
      "execution_count": null,
      "outputs": [
        {
          "output_type": "stream",
          "name": "stdout",
          "text": [
            "{'Germany': 'Berlin', 'Canada': 'Ottawa', 'England': 'London'}\n"
          ]
        }
      ]
    },
    {
      "cell_type": "code",
      "source": [
        "fruits = {'apple': 10,'banana': 20,'orange': 30,'grapes': 10}\n",
        "print (fruits)"
      ],
      "metadata": {
        "colab": {
          "base_uri": "https://localhost:8080/"
        },
        "id": "_Zy1tXAaa0bf",
        "outputId": "d1603036-f8b0-4baf-a6df-ce427b4a9d08"
      },
      "execution_count": null,
      "outputs": [
        {
          "output_type": "stream",
          "name": "stdout",
          "text": [
            "{'apple': 10, 'banana': 20, 'orange': 30, 'grapes': 10}\n"
          ]
        }
      ]
    },
    {
      "cell_type": "code",
      "source": [
        "#using dict function\n",
        "fruits = dict([(\"apple\", 10),(\"banana\", 20),(\"orange\", 30)])\n",
        "print (fruits)"
      ],
      "metadata": {
        "colab": {
          "base_uri": "https://localhost:8080/"
        },
        "id": "-Uik9VHHbjYR",
        "outputId": "e8df33fe-72d6-4cc6-e7ea-dbffbf9cae9b"
      },
      "execution_count": null,
      "outputs": [
        {
          "output_type": "stream",
          "name": "stdout",
          "text": [
            "{'apple': 10, 'banana': 20, 'orange': 30}\n"
          ]
        }
      ]
    },
    {
      "cell_type": "code",
      "source": [
        "student = {'name': 'Chitra', 'age':22, 'city': 'Maharashtra'}\n",
        "print (student['name'])"
      ],
      "metadata": {
        "colab": {
          "base_uri": "https://localhost:8080/"
        },
        "id": "EuQuMbdTcFQs",
        "outputId": "851cdac0-6a64-4ada-ffd7-1db57f652a11"
      },
      "execution_count": null,
      "outputs": [
        {
          "output_type": "stream",
          "name": "stdout",
          "text": [
            "Chitra\n"
          ]
        }
      ]
    },
    {
      "cell_type": "code",
      "source": [
        "student = {\"name\": \"Chitra\", \"age\": 22, \"city\": \"Hyderabad\"}\n",
        "print (student[\"city\"])"
      ],
      "metadata": {
        "colab": {
          "base_uri": "https://localhost:8080/"
        },
        "id": "13FVNWWZdCSX",
        "outputId": "033cdd2e-6924-4ba6-97b4-eb2f944b6546"
      },
      "execution_count": null,
      "outputs": [
        {
          "output_type": "stream",
          "name": "stdout",
          "text": [
            "Hyderabad\n"
          ]
        }
      ]
    },
    {
      "cell_type": "code",
      "source": [
        "Dict = {}\n",
        "print(\"Empty Dictionary: \")\n",
        "print(Dict)"
      ],
      "metadata": {
        "colab": {
          "base_uri": "https://localhost:8080/"
        },
        "id": "fH1L3lSGdlsA",
        "outputId": "75ed26b3-272e-4470-8775-81f1dc36d601"
      },
      "execution_count": null,
      "outputs": [
        {
          "output_type": "stream",
          "name": "stdout",
          "text": [
            "Empty Dictionary: \n",
            "{}\n"
          ]
        }
      ]
    },
    {
      "cell_type": "code",
      "source": [
        "products = {'Jeans': 49.99, 'T-Shirt': 14.99, 'Suit': 89.99}\n",
        "print (products)"
      ],
      "metadata": {
        "colab": {
          "base_uri": "https://localhost:8080/"
        },
        "id": "_b7a4IwId7pr",
        "outputId": "6a6466a6-520c-46cb-de1b-c4422bd2db21"
      },
      "execution_count": null,
      "outputs": [
        {
          "output_type": "stream",
          "name": "stdout",
          "text": [
            "{'Jeans': 49.99, 'T-Shirt': 14.99, 'Suit': 89.99}\n"
          ]
        }
      ]
    },
    {
      "cell_type": "markdown",
      "source": [
        "3) Modify the dictionaries."
      ],
      "metadata": {
        "id": "Z14sQnDjdBDM"
      }
    },
    {
      "cell_type": "code",
      "source": [
        "thisdict = {\"brand\": \"Ford\",\"model\": \"Mustang\",\"year\": 1964}\n",
        "thisdict[\"year\"] = 2018\n",
        "print (thisdict)"
      ],
      "metadata": {
        "colab": {
          "base_uri": "https://localhost:8080/"
        },
        "id": "hq48sz01dYRd",
        "outputId": "e261dd2c-c061-4b3d-d2d8-a3dbac9d7f4c"
      },
      "execution_count": null,
      "outputs": [
        {
          "output_type": "stream",
          "name": "stdout",
          "text": [
            "{'brand': 'Ford', 'model': 'Mustang', 'year': 2018}\n"
          ]
        }
      ]
    },
    {
      "cell_type": "code",
      "source": [
        "main_dict = {'a': 1, 'b': 2}\n",
        "main_dict['a'] = 9\n",
        "print (main_dict)"
      ],
      "metadata": {
        "colab": {
          "base_uri": "https://localhost:8080/"
        },
        "id": "pGuu4iO6gzAr",
        "outputId": "2182e5c7-18a8-42bb-eb7b-5bff31e29a9e"
      },
      "execution_count": null,
      "outputs": [
        {
          "output_type": "stream",
          "name": "stdout",
          "text": [
            "{'a': 9, 'b': 2}\n"
          ]
        }
      ]
    },
    {
      "cell_type": "code",
      "source": [
        "mydict = {\"fruit\":\"mango\",\"cost\": 75}\n",
        "mydict[\"cost\"] = 85\n",
        "print (mydict)"
      ],
      "metadata": {
        "colab": {
          "base_uri": "https://localhost:8080/"
        },
        "id": "lQ1ae7wfhZlW",
        "outputId": "6f812d94-9b33-4cb6-bfec-8edb8b93fc45"
      },
      "execution_count": null,
      "outputs": [
        {
          "output_type": "stream",
          "name": "stdout",
          "text": [
            "{'fruit': 'mango', 'cost': 85}\n"
          ]
        }
      ]
    },
    {
      "cell_type": "code",
      "source": [
        "student = {\"name\": \"Chitra\",\"course\": \"data analyst\",\"age\": 21}\n",
        "student[\"age\"] = 22\n",
        "print (student)"
      ],
      "metadata": {
        "colab": {
          "base_uri": "https://localhost:8080/"
        },
        "id": "uhN79G6viSeP",
        "outputId": "59aa2d4b-c15a-43dc-acc1-f9755e1b765e"
      },
      "execution_count": null,
      "outputs": [
        {
          "output_type": "stream",
          "name": "stdout",
          "text": [
            "{'name': 'Chitra', 'course': 'data analyst', 'age': 22}\n"
          ]
        }
      ]
    },
    {
      "cell_type": "code",
      "source": [
        "mydict = {\"a\": 125,\"b\": 657,\"c\": 555,\"d\":890}\n",
        "mydict[\"c\"] = 444\n",
        "print (mydict)"
      ],
      "metadata": {
        "colab": {
          "base_uri": "https://localhost:8080/"
        },
        "id": "vF4OrAZqjRm1",
        "outputId": "3e02d575-82c9-4083-b4cd-1bd4fa504e8b"
      },
      "execution_count": null,
      "outputs": [
        {
          "output_type": "stream",
          "name": "stdout",
          "text": [
            "{'a': 125, 'b': 657, 'c': 444, 'd': 890}\n"
          ]
        }
      ]
    },
    {
      "cell_type": "markdown",
      "source": [
        "4) Add a new entry."
      ],
      "metadata": {
        "id": "QiIIJxPnmcXS"
      }
    },
    {
      "cell_type": "code",
      "source": [
        "thisdict = {\"brand\": \"Ford\",\"model\": \"Mustang\",\"year\": 1964}\n",
        "thisdict[\"color\"] = \"red\"\n",
        "print(thisdict)\n"
      ],
      "metadata": {
        "colab": {
          "base_uri": "https://localhost:8080/"
        },
        "id": "bIJM4SvHmg89",
        "outputId": "ec9ba71e-10a9-4689-c164-12851eb43760"
      },
      "execution_count": null,
      "outputs": [
        {
          "output_type": "stream",
          "name": "stdout",
          "text": [
            "{'brand': 'Ford', 'model': 'Mustang', 'year': 1964, 'color': 'red'}\n"
          ]
        }
      ]
    },
    {
      "cell_type": "code",
      "source": [
        "d = {'key': 'value'}\n",
        "print(d)\n",
        "\n",
        "d['mynewkey'] = 'mynewvalue'\n",
        "print(d)\n"
      ],
      "metadata": {
        "colab": {
          "base_uri": "https://localhost:8080/"
        },
        "id": "DeNHf316mo2s",
        "outputId": "a4169331-3238-4e12-c4ca-8e10dd5db44e"
      },
      "execution_count": null,
      "outputs": [
        {
          "output_type": "stream",
          "name": "stdout",
          "text": [
            "{'key': 'value'}\n",
            "{'key': 'value', 'mynewkey': 'mynewvalue'}\n"
          ]
        }
      ]
    },
    {
      "cell_type": "code",
      "source": [
        "student = {\"name\":\"chitra\",\"age\": 22}\n",
        "student[\"state\"] = \"Maharashtra\"\n",
        "student[\"course\"] = \"Data analyst\"\n",
        "print (student)"
      ],
      "metadata": {
        "colab": {
          "base_uri": "https://localhost:8080/"
        },
        "id": "KuQfra-FnL-0",
        "outputId": "30a054c3-5e8d-4dc9-d634-95ae2908e8f0"
      },
      "execution_count": null,
      "outputs": [
        {
          "output_type": "stream",
          "name": "stdout",
          "text": [
            "{'name': 'chitra', 'age': 22, 'state': 'Maharashtra', 'course': 'Data analyst'}\n"
          ]
        }
      ]
    },
    {
      "cell_type": "code",
      "source": [
        "data = {'a': 1, 'b': 2, 'c': 3}\n",
        "data['d'] = 4\n",
        "data['e'] = 5\n",
        "data['f'] =6\n",
        "print (data)"
      ],
      "metadata": {
        "colab": {
          "base_uri": "https://localhost:8080/"
        },
        "id": "qv0Pu-Ksnvz8",
        "outputId": "2e7d45f9-452a-48e1-d5af-3151a1620950"
      },
      "execution_count": null,
      "outputs": [
        {
          "output_type": "stream",
          "name": "stdout",
          "text": [
            "{'a': 1, 'b': 2, 'c': 3, 'd': 4, 'e': 5, 'f': 6}\n"
          ]
        }
      ]
    },
    {
      "cell_type": "code",
      "source": [
        "  default_data = {'item1': 1,'item2': 2}\n",
        "  default_data['item3'] = 3\n",
        "  print (default_data)"
      ],
      "metadata": {
        "colab": {
          "base_uri": "https://localhost:8080/"
        },
        "id": "IDKhly_8ohGM",
        "outputId": "02917d45-a842-4c8a-e6d1-eaa592d34c0c"
      },
      "execution_count": null,
      "outputs": [
        {
          "output_type": "stream",
          "name": "stdout",
          "text": [
            "{'item1': 1, 'item2': 2, 'item3': 3}\n"
          ]
        }
      ]
    },
    {
      "cell_type": "markdown",
      "source": [
        "5) Methods for dictionary.\n",
        "-  get(): Returns the value of the specified key."
      ],
      "metadata": {
        "id": "QEv88hNcpSLe"
      }
    },
    {
      "cell_type": "code",
      "source": [
        "my_dict = {\"fruit\": \"Apple\",\"cost\": 75}\n",
        "my_dict.get(\"cost\")"
      ],
      "metadata": {
        "colab": {
          "base_uri": "https://localhost:8080/"
        },
        "id": "xtFhLQX2p6tF",
        "outputId": "292e7fae-84ab-41e7-9a0d-db9de19f8a3b"
      },
      "execution_count": null,
      "outputs": [
        {
          "output_type": "execute_result",
          "data": {
            "text/plain": [
              "75"
            ]
          },
          "metadata": {},
          "execution_count": 27
        }
      ]
    },
    {
      "cell_type": "markdown",
      "source": [
        "*  key(): Returns a list containing the dictionary's keys."
      ],
      "metadata": {
        "id": "71ybjVgTqe5O"
      }
    },
    {
      "cell_type": "code",
      "source": [
        "my_dict = {\"fruit\": \"Apple\",\"cost\": 75}\n",
        "my_dict.keys()"
      ],
      "metadata": {
        "colab": {
          "base_uri": "https://localhost:8080/"
        },
        "id": "xT7JIWNoqoRx",
        "outputId": "1876c145-1d0a-40ef-8beb-29549571ef29"
      },
      "execution_count": null,
      "outputs": [
        {
          "output_type": "execute_result",
          "data": {
            "text/plain": [
              "dict_keys(['fruit', 'cost'])"
            ]
          },
          "metadata": {},
          "execution_count": 28
        }
      ]
    },
    {
      "cell_type": "markdown",
      "source": [
        "*  values(): Returns a list of all the values in the dictionary."
      ],
      "metadata": {
        "id": "bvrpDbUpq91B"
      }
    },
    {
      "cell_type": "code",
      "source": [
        "my_dict = {\"fruit\": \"apple\",\"cost\": 75}\n",
        "my_dict.values()"
      ],
      "metadata": {
        "colab": {
          "base_uri": "https://localhost:8080/"
        },
        "id": "k-_wEQZPrKHd",
        "outputId": "1192f672-eeb2-4275-ac67-75b333d8eb97"
      },
      "execution_count": null,
      "outputs": [
        {
          "output_type": "execute_result",
          "data": {
            "text/plain": [
              "dict_values(['apple', 75])"
            ]
          },
          "metadata": {},
          "execution_count": 29
        }
      ]
    },
    {
      "cell_type": "markdown",
      "source": [
        "*  items(): Returns a list containing a tuple for each key value pair."
      ],
      "metadata": {
        "id": "hgnzgiDRrhtG"
      }
    },
    {
      "cell_type": "code",
      "source": [
        "my_dict = {\"fruits\": \"apple\",\"cost\": 75}\n",
        "my_dict.items()"
      ],
      "metadata": {
        "colab": {
          "base_uri": "https://localhost:8080/"
        },
        "id": "x6Pn6sPxruzd",
        "outputId": "d30a7adb-5647-4b6c-e65d-0c2cac5cea7d"
      },
      "execution_count": null,
      "outputs": [
        {
          "output_type": "execute_result",
          "data": {
            "text/plain": [
              "dict_items([('fruits', 'apple'), ('cost', 75)])"
            ]
          },
          "metadata": {},
          "execution_count": 30
        }
      ]
    },
    {
      "cell_type": "markdown",
      "source": [
        "*  pop(): Removes the element with the specified key."
      ],
      "metadata": {
        "id": "offFxmSXsExb"
      }
    },
    {
      "cell_type": "code",
      "source": [
        "car = {\"brand\": \"Ford\",\"model\": \"Mustang\",\"year\": 1964}\n",
        "car.pop(\"model\")\n",
        "print (car)"
      ],
      "metadata": {
        "colab": {
          "base_uri": "https://localhost:8080/"
        },
        "id": "JPIBMI_wsQnQ",
        "outputId": "60f1e40a-7309-4529-9e7d-fab6797d8899"
      },
      "execution_count": null,
      "outputs": [
        {
          "output_type": "stream",
          "name": "stdout",
          "text": [
            "{'brand': 'Ford', 'year': 1964}\n"
          ]
        }
      ]
    },
    {
      "cell_type": "markdown",
      "source": [
        "*  popitems(): Removes the last inserted key-value pair."
      ],
      "metadata": {
        "id": "dHIP8xwbsrGP"
      }
    },
    {
      "cell_type": "code",
      "source": [
        "car = {\"brand\": \"Ford\",\"model\": \"Mustang\",\"year\": 1964}\n",
        "car.popitem()\n",
        "print (car)"
      ],
      "metadata": {
        "colab": {
          "base_uri": "https://localhost:8080/"
        },
        "id": "cw3pdcl8tHeV",
        "outputId": "f4be3af8-8b4a-44e8-e826-943e59adbcb3"
      },
      "execution_count": null,
      "outputs": [
        {
          "output_type": "stream",
          "name": "stdout",
          "text": [
            "{'brand': 'Ford', 'model': 'Mustang'}\n"
          ]
        }
      ]
    },
    {
      "cell_type": "markdown",
      "source": [
        "*  update(): Updates the dictionary with the specified key-value pairs."
      ],
      "metadata": {
        "id": "PGI3UIHotTfB"
      }
    },
    {
      "cell_type": "code",
      "source": [
        "car = {\"brand\": \"Ford\",\"model\": \"Mustang\",\"year\": 1964}\n",
        "car.update({\"color\": \"White\"})\n",
        "print (car)"
      ],
      "metadata": {
        "colab": {
          "base_uri": "https://localhost:8080/"
        },
        "id": "Hk1EO7j6tdyV",
        "outputId": "d23d5c9e-a937-4d2d-de80-5b0364bff0e0"
      },
      "execution_count": null,
      "outputs": [
        {
          "output_type": "stream",
          "name": "stdout",
          "text": [
            "{'brand': 'Ford', 'model': 'Mustang', 'year': 1964, 'color': 'White'}\n"
          ]
        }
      ]
    },
    {
      "cell_type": "markdown",
      "source": [
        "*  clear(): Removes all the elements from the dictionary."
      ],
      "metadata": {
        "id": "CMC1Nqx3twvW"
      }
    },
    {
      "cell_type": "code",
      "source": [
        "car = {\"brand\": \"Ford\",\"model\": \"Mustang\",\"year\": 1964}\n",
        "car.clear()\n",
        "print (car)\n"
      ],
      "metadata": {
        "colab": {
          "base_uri": "https://localhost:8080/"
        },
        "id": "WMs4u4L4uDDK",
        "outputId": "018fa823-4161-4ca9-d878-1b4e0cf6791a"
      },
      "execution_count": null,
      "outputs": [
        {
          "output_type": "stream",
          "name": "stdout",
          "text": [
            "{}\n"
          ]
        }
      ]
    },
    {
      "cell_type": "markdown",
      "source": [
        "*  copy(): Returns a copy of the dictionary."
      ],
      "metadata": {
        "id": "jaI97wnEuRa9"
      }
    },
    {
      "cell_type": "code",
      "source": [
        "my_dict = {\"fruit\": \"apple\",\"cost\": 75}\n",
        "my_dict.copy()"
      ],
      "metadata": {
        "colab": {
          "base_uri": "https://localhost:8080/"
        },
        "id": "L5hOSWLMuY1V",
        "outputId": "4095d072-5a0c-4bc8-8f6b-b940b9f2ae3c"
      },
      "execution_count": null,
      "outputs": [
        {
          "output_type": "execute_result",
          "data": {
            "text/plain": [
              "{'fruit': 'apple', 'cost': 75}"
            ]
          },
          "metadata": {},
          "execution_count": 35
        }
      ]
    },
    {
      "cell_type": "markdown",
      "source": [
        "*  fromkeys: Returns a dictionary with the specified keys and value."
      ],
      "metadata": {
        "id": "qc3fcJnZuvMb"
      }
    },
    {
      "cell_type": "code",
      "source": [
        "x = ('key1', 'key2', 'key3')\n",
        "y = 0\n",
        "thisdict = dict.fromkeys(x, y)\n",
        "print(thisdict)"
      ],
      "metadata": {
        "colab": {
          "base_uri": "https://localhost:8080/"
        },
        "id": "zpWG_PKqu5hq",
        "outputId": "579398de-1a50-4ab3-971c-42da5f112c8a"
      },
      "execution_count": null,
      "outputs": [
        {
          "output_type": "stream",
          "name": "stdout",
          "text": [
            "{'key1': 0, 'key2': 0, 'key3': 0}\n"
          ]
        }
      ]
    },
    {
      "cell_type": "markdown",
      "source": [
        "*  setdefault(): Returns the value of the specified key. If the key does not exist: insert the key, with the specified value."
      ],
      "metadata": {
        "id": "MH8wLSlovPz8"
      }
    },
    {
      "cell_type": "code",
      "source": [
        "car = {\"brand\": \"Ford\",\"model\": \"Mustang\",\"year\": 1964}\n",
        "x = car.setdefault(\"model\", \"Bronco\")\n",
        "print(x)"
      ],
      "metadata": {
        "colab": {
          "base_uri": "https://localhost:8080/"
        },
        "id": "67f5UY0KvUhT",
        "outputId": "d95387db-1b81-4879-f64e-f32ad98e8833"
      },
      "execution_count": null,
      "outputs": [
        {
          "output_type": "stream",
          "name": "stdout",
          "text": [
            "Mustang\n"
          ]
        }
      ]
    }
  ]
}